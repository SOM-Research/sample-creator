{
 "cells": [
  {
   "cell_type": "code",
   "execution_count": 5,
   "metadata": {},
   "outputs": [],
   "source": [
    "# We import all the necessary librarys\n",
    "import numpy as np\n",
    "import pandas as pd\n",
    "from collections import Counter\n",
    "from Preprocessing import preprocessing"
   ]
  },
  {
   "cell_type": "code",
   "execution_count": 4,
   "metadata": {},
   "outputs": [
    {
     "name": "stdout",
     "output_type": "stream",
     "text": [
      "                                     name     type  likes\n",
      "0                  0-hero/OIG-small-chip2  dataset      8\n",
      "1                   0-hero/prompt-perfect  dataset      0\n",
      "2                        000alen/semantic  dataset      0\n",
      "3                      000hen/captchaCode  dataset      0\n",
      "4                        003myjoker1/test  dataset      0\n",
      "...                                   ...      ...    ...\n",
      "674822               zzzzxx/5656ChatPaper    space      0\n",
      "674823                   zzzzxx/ChatPaper    space      0\n",
      "674824                  zzzzzz/text2image    space      1\n",
      "674825               zzzzzz567/Real-CUGAN    space      0\n",
      "674826  zzzzzz567/vits-uma-genshin-honkai    space      0\n",
      "\n",
      "[674827 rows x 3 columns]\n"
     ]
    },
    {
     "ename": "NameError",
     "evalue": "name 'preprocessing' is not defined",
     "output_type": "error",
     "traceback": [
      "\u001b[1;31m---------------------------------------------------------------------------\u001b[0m",
      "\u001b[1;31mNameError\u001b[0m                                 Traceback (most recent call last)",
      "Cell \u001b[1;32mIn[4], line 4\u001b[0m\n\u001b[0;32m      2\u001b[0m df \u001b[38;5;241m=\u001b[39m pd\u001b[38;5;241m.\u001b[39mread_csv(file_path)\n\u001b[0;32m      3\u001b[0m \u001b[38;5;28mprint\u001b[39m(df) \n\u001b[1;32m----> 4\u001b[0m \u001b[43mpreprocessing\u001b[49m(df)\n",
      "\u001b[1;31mNameError\u001b[0m: name 'preprocessing' is not defined"
     ]
    }
   ],
   "source": [
    "file_path = r\"type_likes.csv\" \n",
    "df = pd.read_csv(file_path)\n",
    "print(df) \n",
    "preprocessing(df)"
   ]
  }
 ],
 "metadata": {
  "kernelspec": {
   "display_name": "Python 3",
   "language": "python",
   "name": "python3"
  },
  "language_info": {
   "codemirror_mode": {
    "name": "ipython",
    "version": 3
   },
   "file_extension": ".py",
   "mimetype": "text/x-python",
   "name": "python",
   "nbconvert_exporter": "python",
   "pygments_lexer": "ipython3",
   "version": "3.9.19"
  }
 },
 "nbformat": 4,
 "nbformat_minor": 2
}
