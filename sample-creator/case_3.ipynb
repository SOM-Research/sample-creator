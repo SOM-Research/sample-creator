{
 "cells": [
  {
   "cell_type": "code",
   "execution_count": 1,
   "metadata": {},
   "outputs": [
    {
     "data": {
      "text/plain": [
       "<module 'mixed.stratification' from 'c:\\\\Users\\\\Adem.ait\\\\OneDrive - University of Luxembourg\\\\Feina\\\\PhD\\\\sampling\\\\sample-creator\\\\mixed\\\\stratification.py'>"
      ]
     },
     "execution_count": 1,
     "metadata": {},
     "output_type": "execute_result"
    }
   ],
   "source": [
    "import mixed.sampling as mix_sampling\n",
    "import utils.preprocessing as preprocessing\n",
    "import mixed.stratification as mix_stratification\n",
    "\n",
    "import importlib \n",
    "\n",
    "importlib.reload(mix_stratification) "
   ]
  },
  {
   "cell_type": "code",
   "execution_count": 2,
   "metadata": {},
   "outputs": [
    {
     "name": "stdout",
     "output_type": "stream",
     "text": [
      "PREPROCESSING:\n",
      "The dataframe does not contain NaN values.\n",
      "                                     name     type  likes\n",
      "0                  0-hero/OIG-small-chip2  dataset      8\n",
      "1                   0-hero/prompt-perfect  dataset      0\n",
      "2                        000alen/semantic  dataset      0\n",
      "3                      000hen/captchaCode  dataset      0\n",
      "4                        003myjoker1/test  dataset      0\n",
      "...                                   ...      ...    ...\n",
      "674822               zzzzxx/5656ChatPaper    space      0\n",
      "674823                   zzzzxx/ChatPaper    space      0\n",
      "674824                  zzzzzz/text2image    space      1\n",
      "674825               zzzzzz567/Real-CUGAN    space      0\n",
      "674826  zzzzzz567/vits-uma-genshin-honkai    space      0\n",
      "\n",
      "[674827 rows x 3 columns]\n",
      "Statistics for categorical variable 'type':\n",
      "  Population Size: 674827\n",
      "\n",
      "Statistics for numerical variable 'likes':\n",
      "  Population Size: 674827\n",
      "  Mean: 1.134440382498033\n",
      "  Median: 0.0\n",
      "  Standard Deviation: 28.127517598840843\n",
      "\n"
     ]
    }
   ],
   "source": [
    "# MAIN CODE - PREPROCESSING\n",
    "print(\"PREPROCESSING:\")\n",
    "file_path = r\"type_likes.csv\"\n",
    "df = preprocessing.read_dataframe(file_path)\n",
    "# print(df)\n",
    "preprocessing.remove_nan_df(df)\n",
    "print(df)\n",
    "variables = preprocessing.create_lists_from_df(df) #diccionario de las variables -> lista de valores\n",
    "\n",
    "numerical_variables, categorical_variables = separate_numerical_categorical(variables)\n",
    "\n",
    "\n",
    "statistics = preprocessing.print_and_collect_statistics(variables)\n",
    "\n"
   ]
  },
  {
   "cell_type": "code",
   "execution_count": null,
   "metadata": {},
   "outputs": [],
   "source": [
    "print(\"PREPROCESSING:\")\n",
    "file_path = r\"C:\\Users\\goros\\OneDrive\\Escritorio\\UOC\\repository.csv\"\n",
    "df = read_dataframe(file_path)\n",
    "print(df)\n",
    "\n",
    "# Clean the DataFrame\n",
    "df_clean = analyze_df(df)\n",
    "\n",
    "# Create variables dictionary from DataFrame\n",
    "variables = create_variables_dict_from_df(df_clean)\n",
    "keys, values = dictionary_to_lists(variables) #Creo que al final no es necesario. Esperar a la ultima comprobacion para borrar.\n",
    "\n",
    "# Separate numerical and categorical variables\n",
    "numerical_variables, categorical_variables = separate_numerical_categorical(variables)\n",
    "# Mostramos las variables numéricas\n",
    "print(\"Variables numéricas:\")\n",
    "for variable_name, values in numerical_variables.items():\n",
    "    print(f\"{variable_name}: {len(values)}\")\n",
    "# Mostramos las variables categóricas\n",
    "print(\"\\nVariables categóricas:\")\n",
    "for variable_name, values in categorical_variables.items():\n",
    "    print(f\"{variable_name}: {len(values)}\")\n",
    "\n",
    "# Further processing steps for categorical variables\n",
    "counters = count_elements_in_variables(categorical_variables)\n",
    "print(\"Counter: \", counters)\n",
    "all_keys, all_values = dictionary_to_all_lists(counters)\n",
    "print(\"keys: \", keys, \"values: \", len(values))\n",
    "print(\"All keys: \", all_keys)\n",
    "print(\"All values: \", len(all_values))\n",
    "\n",
    "# Finally, we compute and print the statistical variables\n",
    "statistics = print_and_collect_statistics(variables)"
   ]
  }
 ],
 "metadata": {
  "kernelspec": {
   "display_name": "Python 3",
   "language": "python",
   "name": "python3"
  },
  "language_info": {
   "codemirror_mode": {
    "name": "ipython",
    "version": 3
   },
   "file_extension": ".py",
   "mimetype": "text/x-python",
   "name": "python",
   "nbconvert_exporter": "python",
   "pygments_lexer": "ipython3",
   "version": "3.9.19"
  }
 },
 "nbformat": 4,
 "nbformat_minor": 2
}
