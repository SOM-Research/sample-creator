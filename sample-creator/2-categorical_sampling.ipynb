{
 "cells": [
  {
   "cell_type": "code",
   "execution_count": 16,
   "metadata": {},
   "outputs": [],
   "source": [
    "import categorical.stratification as cat_stratification\n",
    "import utils.preprocessing as preprocessing\n",
    "import categorical.sampling as cat_sampling \n",
    "import categorical.combination as cat_combination"
   ]
  },
  {
   "cell_type": "markdown",
   "metadata": {},
   "source": [
    "## Categorical sampling of 1 variable"
   ]
  },
  {
   "cell_type": "markdown",
   "metadata": {},
   "source": [
    "### Preprocessing"
   ]
  },
  {
   "cell_type": "code",
   "execution_count": 13,
   "metadata": {},
   "outputs": [
    {
     "name": "stdout",
     "output_type": "stream",
     "text": [
      "PREPROCESSING:\n",
      "      type\n",
      "0  dataset\n",
      "1  dataset\n",
      "2  dataset\n",
      "3  dataset\n",
      "4  dataset\n",
      "5  dataset\n",
      "6  dataset\n",
      "7  dataset\n",
      "8  dataset\n",
      "9  dataset\n",
      "The dataframe does not contain NaN values.\n",
      "Statistics for categorical variable 'type':\n",
      "  Population Size: 674827\n",
      "\n"
     ]
    }
   ],
   "source": [
    "print(\"PREPROCESSING:\")\n",
    "file_path = r\"type_likes.csv\" \n",
    "df = preprocessing.read_dataframe(file_path)\n",
    "df = df.drop(\"likes\", axis=1)\n",
    "df = df.drop(\"name\", axis=1)\n",
    "print(df[:10])\n",
    "preprocessing.remove_nan_df(df)\n",
    "variables = preprocessing.create_lists_from_df(df) \n",
    "counters = preprocessing.count_elements_in_variables_single(variables)\n",
    "\n",
    "all_keys, all_values = preprocessing.dictionary_to_all_lists(counters)\n",
    "\n",
    "statistics = preprocessing.print_and_collect_statistics_single(variables)"
   ]
  },
  {
   "cell_type": "markdown",
   "metadata": {},
   "source": [
    "### Stratification"
   ]
  },
  {
   "cell_type": "code",
   "execution_count": 14,
   "metadata": {},
   "outputs": [
    {
     "name": "stdout",
     "output_type": "stream",
     "text": [
      "STRATA DICT:\n",
      "Length of 'dataset': 101681\n",
      "Length of 'model': 456303\n",
      "Length of 'space': 116843\n"
     ]
    }
   ],
   "source": [
    "strata_dict = cat_stratification.create_strata_single(counters) \n",
    "print(\"STRATA DICT:\")\n",
    "for key, values in strata_dict.items():\n",
    "    print(f\"Length of '{key}': {len(values)}\")"
   ]
  },
  {
   "cell_type": "markdown",
   "metadata": {},
   "source": [
    "### Sampling"
   ]
  },
  {
   "cell_type": "code",
   "execution_count": 15,
   "metadata": {},
   "outputs": [
    {
     "name": "stdout",
     "output_type": "stream",
     "text": [
      "Population Size: 674827\n",
      "Number of observations in each stratum (nis): [101681, 456303, 116843]\n",
      "Proportion of each stratum (phi): [0.1506771365105427, 0.6761777462964582, 0.1731451171929991]\n",
      "Required sample size: 385\n",
      "Sample size of each strata:\n",
      "Stratum dataset: 58 observations\n",
      "Stratum model: 260 observations\n",
      "Stratum space: 67 observations\n"
     ]
    }
   ],
   "source": [
    "N, _ = cat_sampling.extract_population_size_and_means(statistics)\n",
    "print(f\"Population Size: {N}\")\n",
    "nis, phi = cat_sampling.nis_phi(strata_dict, N)\n",
    "print(f\"Number of observations in each stratum (nis): {nis}\")\n",
    "print(f\"Proportion of each stratum (phi): {phi}\")\n",
    "\n",
    "epsilon = 0.05\n",
    "confidence = 0.95\n",
    "n = cat_sampling.sample_size(epsilon, confidence)\n",
    "print(\"Required sample size:\", n)\n",
    "\n",
    "ni_size = cat_sampling.determine_ni_size_single(phi, all_keys, n)\n",
    "print(\"Sample size of each strata:\")\n",
    "for stratum_key, size in ni_size.items():\n",
    "    print(f\"Stratum {stratum_key}: {size} observations\")"
   ]
  },
  {
   "cell_type": "code",
   "execution_count": 17,
   "metadata": {},
   "outputs": [],
   "source": [
    "sample = cat_sampling.create_sample(ni_size, strata_dict)"
   ]
  },
  {
   "cell_type": "code",
   "execution_count": 18,
   "metadata": {},
   "outputs": [
    {
     "name": "stdout",
     "output_type": "stream",
     "text": [
      "Total stratified sample size: 385\n"
     ]
    }
   ],
   "source": [
    "print(f\"Total stratified sample size: {len(sample)}\")"
   ]
  },
  {
   "cell_type": "code",
   "execution_count": 19,
   "metadata": {},
   "outputs": [
    {
     "name": "stdout",
     "output_type": "stream",
     "text": [
      "Counts of each combination:\n",
      "Combination: dataset, Count: 58\n",
      "Combination: model, Count: 260\n",
      "Combination: space, Count: 67\n"
     ]
    }
   ],
   "source": [
    "final_combination_counts = cat_sampling.count_combinations_final(sample)\n",
    "\n",
    "print(\"Counts of each combination:\")\n",
    "for combination, count in final_combination_counts.items():\n",
    "    print(f\"Combination: {combination}, Count: {count}\")"
   ]
  },
  {
   "cell_type": "markdown",
   "metadata": {},
   "source": [
    "## Categorical sampling of 2 variable"
   ]
  },
  {
   "cell_type": "code",
   "execution_count": 20,
   "metadata": {},
   "outputs": [
    {
     "name": "stdout",
     "output_type": "stream",
     "text": [
      "PREPROCESSING:\n",
      "The dataframe does not contain NaN values.\n",
      "   New_Index     type  is_pull_request\n",
      "0          1  dataset                0\n",
      "1          2  dataset                0\n",
      "2          3  dataset                0\n",
      "3          4  dataset                0\n",
      "4          5  dataset                0\n",
      "5          6  dataset                0\n",
      "6          7  dataset                1\n",
      "7          8  dataset                1\n",
      "8          9  dataset                0\n",
      "9         10  dataset                0\n",
      "{'type': Counter({'model': 109700, 'dataset': 35258, 'space': 22531}), 'is_pull_request': Counter({1: 105829, 0: 61660})}\n",
      "Statistics for categorical variable 'type':\n",
      "  Population Size: 167489\n",
      "\n",
      "Statistics for numerical variable 'is_pull_request':\n",
      "  Population Size: 167489\n",
      "  Mean: 0.6318564204216396\n",
      "  Median: 1.0\n",
      "  Standard Deviation: 0.4823006162069377\n",
      "\n"
     ]
    }
   ],
   "source": [
    "print(\"PREPROCESSING:\")\n",
    "file_path = r\"type_pull.csv\" \n",
    "df = preprocessing.read_dataframe(file_path)\n",
    "df.insert(0, 'New_Index', range(1, len(df) + 1)) # Add a new column as index\n",
    "preprocessing.remove_nan_df(df)\n",
    "print(df[:10])\n",
    "variables = preprocessing.create_lists_from_df(df) \n",
    "counters = preprocessing.count_elements_in_variables(variables)\n",
    "print(counters)\n",
    "\n",
    "all_keys, all_values = preprocessing.dictionary_to_all_lists(counters)\n",
    "\n",
    "\n",
    "statistics = preprocessing.print_and_collect_statistics(variables)"
   ]
  },
  {
   "cell_type": "markdown",
   "metadata": {},
   "source": [
    "### Stratification"
   ]
  },
  {
   "cell_type": "code",
   "execution_count": 21,
   "metadata": {},
   "outputs": [
    {
     "name": "stdout",
     "output_type": "stream",
     "text": [
      "Strata for variable 'type': 3\n",
      "Length of stratum 1: 35258\n",
      "Length of stratum 2: 109700\n",
      "Length of stratum 3: 22531\n",
      "Strata for variable 'is_pull_request': 2\n",
      "Length of stratum 1: 61660\n",
      "Length of stratum 2: 105829\n"
     ]
    }
   ],
   "source": [
    "strata_dict = cat_stratification.create_strata_multiple(counters) \n",
    "for variable, strata in strata_dict.items():\n",
    "    print(f\"Strata for variable '{variable}': {len(strata)}\")\n",
    "    for i, sublist in enumerate(strata, start=1):\n",
    "        print(f\"Length of stratum {i}: {len(sublist)}\")"
   ]
  },
  {
   "cell_type": "markdown",
   "metadata": {},
   "source": [
    "### Combination"
   ]
  },
  {
   "cell_type": "code",
   "execution_count": 22,
   "metadata": {},
   "outputs": [
    {
     "name": "stdout",
     "output_type": "stream",
     "text": [
      "[['dataset', 0], ['dataset', 1], ['model', 0], ['model', 1], ['space', 0], ['space', 1]]\n",
      "{'(dataset, 0)': 22557, '(dataset, 1)': 12701, '(model, 0)': 20715, '(model, 1)': 88985, '(space, 0)': 18388, '(space, 1)': 4143}\n",
      "CLASSIFIED OBSERVATIONS\n",
      "Stratum (dataset, 0): 22557 observations\n",
      "Stratum (dataset, 1): 12701 observations\n",
      "Stratum (model, 1): 88985 observations\n",
      "Stratum (model, 0): 20715 observations\n",
      "Stratum (space, 1): 4143 observations\n",
      "Stratum (space, 0): 18388 observations\n"
     ]
    }
   ],
   "source": [
    "combination_strata = cat_combination.combination(all_keys)\n",
    "print(combination_strata)\n",
    "observations = cat_combination.df_to_list_observations(df)\n",
    "\n",
    "count_onservations_combination = cat_combination.count_combinations(observations, combination_strata)\n",
    "print(count_onservations_combination)\n",
    "\n",
    "classified_observations = cat_combination.classify_observations(observations, combination_strata)\n",
    "print(\"CLASSIFIED OBSERVATIONS\")\n",
    "for comb, obs_list in classified_observations.items():\n",
    "    print(f\"Stratum {comb}: {len(obs_list)} observations\")\n",
    "\n",
    "\n",
    "for comb, obs_list in classified_observations.items():\n",
    "    for obs in obs_list:\n",
    "        if len(obs) != 3:\n",
    "            raise ValueError(f\"Each sublist in the observations associated with combination {comb} must have a length of three.\")\n",
    "        \n"
   ]
  },
  {
   "cell_type": "markdown",
   "metadata": {},
   "source": [
    "### Sampling"
   ]
  },
  {
   "cell_type": "markdown",
   "metadata": {},
   "source": [
    "First, we calculate the required variables."
   ]
  },
  {
   "cell_type": "code",
   "execution_count": 24,
   "metadata": {},
   "outputs": [
    {
     "name": "stdout",
     "output_type": "stream",
     "text": [
      "Population Size: 167489\n",
      "Number of observations in each stratum (nis): [22557, 12701, 88985, 20715, 4143, 18388]\n",
      "Proportion of each stratum (phi): [0.13467750120903463, 0.07583184567344721, 0.5312886219393512, 0.12367976404420589, 0.024735952808841177, 0.10978631432511986]\n",
      "Required sample size: 385\n",
      "Sample size of each stratum:\n",
      "Stratum (dataset, 0): 52 observations\n",
      "Stratum (dataset, 1): 29 observations\n",
      "Stratum (model, 0): 204 observations\n",
      "Stratum (model, 1): 48 observations\n",
      "Stratum (space, 0): 10 observations\n",
      "Stratum (space, 1): 42 observations\n"
     ]
    }
   ],
   "source": [
    "N, means = cat_sampling.extract_population_size_and_means(statistics)\n",
    "print(f\"Population Size: {N}\")\n",
    "nis, phi = cat_sampling.nis_phi(classified_observations, N)\n",
    "print(f\"Number of observations in each stratum (nis): {nis}\")\n",
    "print(f\"Proportion of each stratum (phi): {phi}\")\n",
    "\n",
    "\n",
    "epsilon = 0.05\n",
    "confidence = 0.95\n",
    "n = cat_sampling.sample_size(epsilon, confidence)\n",
    "print(\"Required sample size:\", n)\n",
    "\n",
    "ni_size = cat_sampling.determine_ni_size_multiple(phi, combination_strata, n)\n",
    "print(\"Sample size of each stratum:\")\n",
    "for stratum_key, size in ni_size.items():\n",
    "    print(f\"Stratum {stratum_key}: {size} observations\")"
   ]
  },
  {
   "cell_type": "code",
   "execution_count": 25,
   "metadata": {},
   "outputs": [
    {
     "name": "stdout",
     "output_type": "stream",
     "text": [
      "Total stratified sample size: 385\n",
      "Sample entries:\n",
      "[1, 'dataset', 0]\n",
      "[2, 'dataset', 0]\n",
      "[3, 'dataset', 0]\n",
      "[4, 'dataset', 0]\n",
      "[5, 'dataset', 0]\n",
      "[6, 'dataset', 0]\n",
      "[9, 'dataset', 0]\n",
      "[10, 'dataset', 0]\n",
      "[11, 'dataset', 0]\n",
      "[12, 'dataset', 0]\n",
      "Counts of each combination:\n",
      "Combination: ('dataset', 0), Count: 52\n",
      "Combination: ('dataset', 1), Count: 29\n",
      "Combination: ('model', 0), Count: 204\n",
      "Combination: ('model', 1), Count: 48\n",
      "Combination: ('space', 0), Count: 10\n",
      "Combination: ('space', 1), Count: 42\n"
     ]
    }
   ],
   "source": [
    "sample = cat_sampling.create_sample(ni_size, classified_observations)\n",
    "\n",
    "print(f\"Total stratified sample size: {len(sample)}\")\n",
    "print(\"Sample entries:\")\n",
    "for i in range(10):  \n",
    "    print(sample[i])\n",
    "\n",
    "final_combination_counts = cat_sampling.count_combinations_final_multiple(sample)\n",
    "\n",
    "print(\"Counts of each combination:\")\n",
    "for combination, count in final_combination_counts.items():\n",
    "    print(f\"Combination: {combination}, Count: {count}\")"
   ]
  }
 ],
 "metadata": {
  "kernelspec": {
   "display_name": "Python 3",
   "language": "python",
   "name": "python3"
  },
  "language_info": {
   "codemirror_mode": {
    "name": "ipython",
    "version": 3
   },
   "file_extension": ".py",
   "mimetype": "text/x-python",
   "name": "python",
   "nbconvert_exporter": "python",
   "pygments_lexer": "ipython3",
   "version": "3.9.19"
  }
 },
 "nbformat": 4,
 "nbformat_minor": 2
}
