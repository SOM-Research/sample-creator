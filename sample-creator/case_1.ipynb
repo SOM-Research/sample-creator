{
 "cells": [
  {
   "cell_type": "code",
   "execution_count": 34,
   "metadata": {},
   "outputs": [
    {
     "data": {
      "text/plain": [
       "<module 'numerical.sampling' from 'c:\\\\Users\\\\Adem.ait\\\\OneDrive - University of Luxembourg\\\\Feina\\\\PhD\\\\sampling\\\\sample-creator\\\\numerical\\\\sampling.py'>"
      ]
     },
     "execution_count": 34,
     "metadata": {},
     "output_type": "execute_result"
    }
   ],
   "source": [
    "import numerical.sampling as num_sampling\n",
    "import utils.preprocessing as preprocessing\n",
    "import numerical.stratification as num_stratification\n",
    "import numerical.combination as num_combination\n",
    "\n",
    "import importlib \n",
    "\n",
    "importlib.reload(num_sampling) "
   ]
  },
  {
   "cell_type": "markdown",
   "metadata": {},
   "source": [
    "## Numerical sampling of 1 variable"
   ]
  },
  {
   "cell_type": "markdown",
   "metadata": {},
   "source": [
    "### Preprocessing"
   ]
  },
  {
   "cell_type": "code",
   "execution_count": 35,
   "metadata": {},
   "outputs": [
    {
     "name": "stdout",
     "output_type": "stream",
     "text": [
      "The dataframe does not contain NaN values.\n",
      "                                     name  likes\n",
      "0                  0-hero/OIG-small-chip2      8\n",
      "1                   0-hero/prompt-perfect      0\n",
      "2                        000alen/semantic      0\n",
      "3                      000hen/captchaCode      0\n",
      "4                        003myjoker1/test      0\n",
      "...                                   ...    ...\n",
      "674822               zzzzxx/5656ChatPaper      0\n",
      "674823                   zzzzxx/ChatPaper      0\n",
      "674824                  zzzzzz/text2image      1\n",
      "674825               zzzzzz567/Real-CUGAN      0\n",
      "674826  zzzzzz567/vits-uma-genshin-honkai      0\n",
      "\n",
      "[674827 rows x 2 columns]\n",
      "Statistics for numerical variable 'likes':\n",
      "  Population Size: 674827\n",
      "  Mean: 1.134440382498033\n",
      "  Median: 0.0\n",
      "  Standard Deviation: 28.127517598840843\n",
      "\n"
     ]
    }
   ],
   "source": [
    "file_path = r\"type_likes.csv\"\n",
    "df = preprocessing.read_dataframe(file_path)\n",
    "df = df.drop(columns=['type'])\n",
    "preprocessing.remove_nan_df(df)\n",
    "print(df)\n",
    "\n",
    "variables = preprocessing.create_lists_from_df(df) #diccionario de las variables -> lista de valores\n",
    "# keys, values = preprocessing.dictionary_to_lists(variables)\n",
    "statistics = preprocessing.print_and_collect_statistics(variables)"
   ]
  },
  {
   "cell_type": "markdown",
   "metadata": {},
   "source": [
    "### Stratification"
   ]
  },
  {
   "cell_type": "code",
   "execution_count": 36,
   "metadata": {},
   "outputs": [
    {
     "name": "stdout",
     "output_type": "stream",
     "text": [
      "Variable: likes\n",
      "  Stratum 1: 674493 points\n",
      "  Stratum 2: 21 points\n",
      "  Stratum 3: 313 points\n"
     ]
    }
   ],
   "source": [
    "num_clusters_list = [3] # Specify the number of clusters for each variable\n",
    "strata = num_stratification.create_stratum_kmeans(variables, num_clusters_list) # Apply KMeans clustering to each variable\n",
    "num_stratification.print_stratum_counts(strata) #Print the number of elements in each stratum for each variable\n",
    "stratum_dict = num_stratification.get_stratum_dict(strata)"
   ]
  },
  {
   "cell_type": "markdown",
   "metadata": {},
   "source": [
    "### Sampling"
   ]
  },
  {
   "cell_type": "markdown",
   "metadata": {},
   "source": [
    "First, we calculate the required variables."
   ]
  },
  {
   "cell_type": "code",
   "execution_count": 37,
   "metadata": {},
   "outputs": [
    {
     "name": "stdout",
     "output_type": "stream",
     "text": [
      "PRE-SAMPLING\n",
      "Population size (N): 674827\n",
      "Means (mu): [1.134440382498033]\n",
      "nis: 3 [674493, 21, 313]\n",
      "phi: 3 [0.9995050583334691, 3.111908681780664e-05, 0.0004638225797130227]\n",
      "s:  [7.216813436470078, 1749.9527198018666, 351.2434594786889]\n"
     ]
    }
   ],
   "source": [
    "# MAIN CODE - PRESAMPLING\n",
    "print(\"PRE-SAMPLING\")\n",
    "N, mu = num_sampling.extract_population_size_and_means(statistics)\n",
    "print(\"Population size (N):\", N)\n",
    "print(\"Means (mu):\", mu)\n",
    "nis, phi = num_sampling.nis_phi(stratum_dict, N) \n",
    "s = num_sampling.calculate_std_devs_single(stratum_dict) # Calculate the standard deviations for each stratum\n",
    "print(\"nis:\", len(nis), nis)\n",
    "print(\"phi:\", len(phi), phi)\n",
    "print(\"s: \", s)\n",
    "\n",
    "#mu_rounded = round(mu[0], 2)\n",
    "epsilon = mu[0] * 0.1\n",
    "#epsilon_rounded = round(epsilon, 3)"
   ]
  },
  {
   "cell_type": "code",
   "execution_count": 38,
   "metadata": {},
   "outputs": [
    {
     "name": "stdout",
     "output_type": "stream",
     "text": [
      "Size of the global sample: 55998\n",
      "Sample sizes for each stratum: [55971, 2, 25]\n",
      "\n",
      "Sampling process:\n",
      "N:  674827  --> n:  55998\n",
      "Mu:  1.134440382498033  --> x-barra:  1.17392146282282\n",
      "Intervalo de confianza: ( 1.0635548498844356 1.2842880757612045 )\n"
     ]
    }
   ],
   "source": [
    "n, ni = num_sampling.nStratifiedSampling(epsilon, 0.95, phi, s, 2, N, nis)\n",
    "print(\"Size of the global sample:\", n)\n",
    "print(\"Sample sizes for each stratum:\", ni)\n",
    "\n",
    "mean_estimate, sampling_error, lower_confidence_interval, upper_confidence_interval = num_sampling.sampling_single(\n",
    "    stratum_dict,   \n",
    "    phi,      \n",
    "    nis,      \n",
    "    s,        \n",
    "    ni        \n",
    ")\n",
    "\n",
    "print(\"\\nSampling process:\")\n",
    "print(\"N: \", N, \" --> n: \", n)\n",
    "print(\"Mu: \", mu[0], \" --> x-barra: \", mean_estimate)\n",
    "print(\"Intervalo de confianza: (\", lower_confidence_interval, upper_confidence_interval, \")\")"
   ]
  },
  {
   "cell_type": "markdown",
   "metadata": {},
   "source": [
    "## Numerical sampling of 2 variables"
   ]
  },
  {
   "cell_type": "markdown",
   "metadata": {},
   "source": [
    "### Preprocessing"
   ]
  },
  {
   "cell_type": "code",
   "execution_count": 39,
   "metadata": {},
   "outputs": [
    {
     "name": "stdout",
     "output_type": "stream",
     "text": [
      "The dataframe does not contain NaN values.\n",
      "                                                    id  likes  downloads\n",
      "0                        models/0-hero/flan-alpaca-ul2      4          1\n",
      "1                          models/0-hero/flan-OIG-base      1          0\n",
      "2                         models/0-hero/flan-OIG-small      0          1\n",
      "3                           models/0-hero/flan-OIG-ul2      1          0\n",
      "4                            models/0-hero/flan-OIG-xl      1          0\n",
      "...                                                ...    ...        ...\n",
      "557979                      datasets/zzzzhhh/test_data      0          0\n",
      "557980                              datasets/zzzzzy/zy      0          0\n",
      "557981                     datasets/zzzzzzttt/subtrain      0          0\n",
      "557982                        datasets/zzzzzzttt/train      0          0\n",
      "557983  datasets/zzzzzzzzzzzzzzzzzzzzzzzzzz/Netonelada      0          0\n",
      "\n",
      "[557984 rows x 3 columns]\n",
      "Statistics for numerical variable 'likes':\n",
      "  Population Size: 557984\n",
      "  Mean: 1.1097880942822733\n",
      "  Median: 0.0\n",
      "  Standard Deviation: 28.378684703117973\n",
      "\n",
      "Statistics for numerical variable 'downloads':\n",
      "  Population Size: 557984\n",
      "  Mean: 1329.2409854045993\n",
      "  Median: 0.0\n",
      "  Standard Deviation: 137724.50209842718\n",
      "\n"
     ]
    }
   ],
   "source": [
    "file_path = r\"likes_downloads.csv\"\n",
    "df = preprocessing.read_dataframe(file_path)\n",
    "preprocessing.remove_nan_df(df)\n",
    "print(df)\n",
    "variables = preprocessing.create_lists_from_df(df)\n",
    "statistics = preprocessing.print_and_collect_statistics(variables)"
   ]
  },
  {
   "cell_type": "markdown",
   "metadata": {},
   "source": [
    "### Stratification"
   ]
  },
  {
   "cell_type": "code",
   "execution_count": 40,
   "metadata": {},
   "outputs": [
    {
     "name": "stdout",
     "output_type": "stream",
     "text": [
      "STRATIFICATION:\n",
      "Variable: likes\n",
      "  Stratum 1: 557907 points\n",
      "  Stratum 2: 75 points\n",
      "  Stratum 3: 2 points\n",
      "Variable: downloads\n",
      "  Stratum 1: 557953 points\n",
      "  Stratum 2: 3 points\n",
      "  Stratum 3: 28 points\n"
     ]
    }
   ],
   "source": [
    "print(\"STRATIFICATION:\")\n",
    "num_clusters_list = [3, 3] # Specify the number of clusters for each variable\n",
    "strata = num_stratification.create_stratum_kmeans(variables, num_clusters_list)\n",
    "num_stratification.print_stratum_counts(strata) "
   ]
  },
  {
   "cell_type": "markdown",
   "metadata": {},
   "source": [
    "### Combination"
   ]
  },
  {
   "cell_type": "code",
   "execution_count": 41,
   "metadata": {},
   "outputs": [
    {
     "name": "stdout",
     "output_type": "stream",
     "text": [
      "Ranges: {'likes': [[0, 762], [785, 4500], [6134, 9909]], 'downloads': [[0, 4325801], [36109954, 57594587], [4948671, 27832109]]}\n",
      "Combinations of ranges:\n",
      "[[0, 762], [0, 4325801]]\n",
      "[[0, 762], [36109954, 57594587]]\n",
      "[[0, 762], [4948671, 27832109]]\n",
      "[[785, 4500], [0, 4325801]]\n",
      "[[785, 4500], [36109954, 57594587]]\n",
      "[[785, 4500], [4948671, 27832109]]\n",
      "[[6134, 9909], [0, 4325801]]\n",
      "[[6134, 9909], [36109954, 57594587]]\n",
      "[[6134, 9909], [4948671, 27832109]]\n",
      "\n",
      "Before dropping empty strata:\n",
      "Stratum [[0, 762], [0, 4325801]]: 557882 observations\n",
      "Stratum [[0, 762], [36109954, 57594587]]: 2 observations\n",
      "Stratum [[0, 762], [4948671, 27832109]]: 23 observations\n",
      "Stratum [[785, 4500], [0, 4325801]]: 69 observations\n",
      "Stratum [[785, 4500], [36109954, 57594587]]: 1 observations\n",
      "Stratum [[785, 4500], [4948671, 27832109]]: 5 observations\n",
      "Stratum [[6134, 9909], [0, 4325801]]: 2 observations\n",
      "Stratum [[6134, 9909], [36109954, 57594587]]: 0 observations\n",
      "Stratum [[6134, 9909], [4948671, 27832109]]: 0 observations\n",
      "\n",
      "Total sum of observations in all strata: 557984\n",
      "\n",
      "After dropping empty strata:\n",
      "Stratum [[0, 762], [0, 4325801]]: 557882 observations\n",
      "Stratum [[0, 762], [36109954, 57594587]]: 2 observations\n",
      "Stratum [[0, 762], [4948671, 27832109]]: 23 observations\n",
      "Stratum [[785, 4500], [0, 4325801]]: 69 observations\n",
      "Stratum [[785, 4500], [36109954, 57594587]]: 1 observations\n",
      "Stratum [[785, 4500], [4948671, 27832109]]: 5 observations\n",
      "Stratum [[6134, 9909], [0, 4325801]]: 2 observations\n",
      "\n",
      "Total sum of observations in all strata: 557984\n"
     ]
    }
   ],
   "source": [
    "stratum_ranges = num_combination.get_stratum_ranges(strata)\n",
    "print(\"Ranges:\", stratum_ranges)\n",
    "strata_combinations = num_combination.combination(stratum_ranges) \n",
    "print(\"Combinations of ranges:\") \n",
    "for comb in strata_combinations:\n",
    "    print(comb)\n",
    "\n",
    "observations = df.values.tolist()\n",
    "classified_observations_before = num_combination.classify_observations(observations, strata_combinations)\n",
    "\n",
    "# Print the number of observations in each stratum in the order of defined strata\n",
    "print(\"\\nBefore dropping empty strata:\")\n",
    "num_combination.print_combination_stratum_counts(classified_observations_before, strata_combinations)\n",
    "# Make a copy of classified observations\n",
    "classified_observations_after = classified_observations_before.copy()\n",
    "# Drop stratum with 0 observations\n",
    "num_combination.drop_empty_strata(classified_observations_after, strata_combinations)\n",
    "# Print the number of observations in each stratum in the order of defined strata after dropping empty strata\n",
    "print(\"\\nAfter dropping empty strata:\")\n",
    "num_combination.print_combination_stratum_counts(classified_observations_after, strata_combinations)"
   ]
  },
  {
   "cell_type": "markdown",
   "metadata": {},
   "source": [
    "### Sampling"
   ]
  },
  {
   "cell_type": "markdown",
   "metadata": {},
   "source": [
    "First, we calculated the required variables."
   ]
  },
  {
   "cell_type": "code",
   "execution_count": 42,
   "metadata": {},
   "outputs": [
    {
     "name": "stdout",
     "output_type": "stream",
     "text": [
      "PRE-SAMPLING\n",
      "Population size (N): 557984\n",
      "Means (mu): [1.1097880942822733, 1329.2409854045993]\n",
      "nis: 7 [557882, 2, 23, 69, 1, 5, 2]\n",
      "phi: 7 [0.9998171990594712, 3.584332167230602e-06, 4.1219819923151915e-05, 0.00012365945976945575, 1.792166083615301e-06, 8.960830418076504e-06, 3.584332167230602e-06]\n",
      "s:  [[11.223240468320144, 0.0, 152.1445118278633, 879.9998234261777, 0.0, 1255.6007277395152, 0.0], [26513.112841280315, 0.0, 2951847.996405471, 443738.6895988686, 0.0, 9556331.109827414, 0.0]]\n",
      "s:\n",
      "  Variable 1: [11.223240468320144, 0.0, 152.1445118278633, 879.9998234261777, 0.0, 1255.6007277395152, 0.0]\n",
      "  Variable 2: [26513.112841280315, 0.0, 2951847.996405471, 443738.6895988686, 0.0, 9556331.109827414, 0.0]\n",
      "Size of the global sample: [65220, 237698]\n",
      "Sample sizes for each stratum: [[65209, 1, 2, 8, 0, 0, 0], [237655, 1, 10, 30, 0, 2, 0]]\n",
      "Variable wiht Max n:  237698 [237655, 1, 10, 30, 0, 2, 0]\n",
      "Filtered max_n_dist: 5 [237655, 1, 10, 30, 2]\n",
      "Filtered phi: 5 [0.9998171990594712, 3.584332167230602e-06, 4.1219819923151915e-05, 0.00012365945976945575, 8.960830418076504e-06]\n",
      "Filtered nis: 5 [557882, 2, 23, 69, 5]\n",
      "Filtered s: 2 [[11.223240468320144, 0.0, 152.1445118278633, 879.9998234261777, 1255.6007277395152], [26513.112841280315, 0.0, 2951847.996405471, 443738.6895988686, 9556331.109827414]]\n",
      "Filtered classified_observations: 5\n"
     ]
    }
   ],
   "source": [
    "print(\"PRE-SAMPLING\")\n",
    "N, mu = num_sampling.extract_population_size_and_means(statistics)\n",
    "print(\"Population size (N):\", N)\n",
    "print(\"Means (mu):\", mu)\n",
    "nis, phi = num_sampling.nis_phi(classified_observations_after, N) # Calculate the stratum proportions\n",
    "s = num_sampling.calculate_variable_std_devs_multiple(classified_observations_after) # Calculate the standard deviations for each stratum\n",
    "print(\"nis:\", len(nis), nis)\n",
    "print(\"phi:\", len(phi), phi)\n",
    "print(\"s: \", s)\n",
    "print(\"s:\")\n",
    "for variable_index, std_devs_for_variable in enumerate(s, start=1):\n",
    "    print(f\"  Variable {variable_index}: {std_devs_for_variable}\")\n",
    "\n",
    "sample_sizes, strata = num_sampling.calculate_sample_sizes(mu, 0.95, phi, s, 2, N, nis) # Call the function to calculate sample sizes\n",
    "print(\"Size of the global sample:\", sample_sizes)\n",
    "print(\"Sample sizes for each stratum:\", strata)\n",
    "\n",
    "max_n, max_n_dist, max_n_idx = num_sampling.get_max_sample_distribution(sample_sizes, strata)\n",
    "print(\"Variable wiht Max n: \", max_n, max_n_dist)\n",
    "\n",
    "filtered_max_n_dist, filtered_phi, filtered_nis, filtered_s, filtered_classified_observations = num_sampling.filter_zero_strata(\n",
    "    max_n_dist=max_n_dist,\n",
    "    phi=phi,\n",
    "    nis=nis,\n",
    "    s=s,\n",
    "    max_n_idx=max_n_idx,\n",
    "    classified_observations=classified_observations_after\n",
    ")\n",
    "\n",
    "print(\"Filtered max_n_dist:\", len(filtered_max_n_dist), filtered_max_n_dist)\n",
    "print(\"Filtered phi:\", len(filtered_phi), filtered_phi)\n",
    "print(\"Filtered nis:\", len(filtered_nis), filtered_nis)\n",
    "print(\"Filtered s:\", len(filtered_s), filtered_s)\n",
    "print(\"Filtered classified_observations:\", len(filtered_classified_observations))"
   ]
  },
  {
   "cell_type": "code",
   "execution_count": 43,
   "metadata": {},
   "outputs": [
    {
     "ename": "NameError",
     "evalue": "name 'variables' is not defined",
     "output_type": "error",
     "traceback": [
      "\u001b[1;31m---------------------------------------------------------------------------\u001b[0m",
      "\u001b[1;31mNameError\u001b[0m                                 Traceback (most recent call last)",
      "Cell \u001b[1;32mIn[43], line 1\u001b[0m\n\u001b[1;32m----> 1\u001b[0m \u001b[43mnum_sampling\u001b[49m\u001b[38;5;241;43m.\u001b[39;49m\u001b[43msampling_multiple\u001b[49m\u001b[43m(\u001b[49m\u001b[43mfiltered_classified_observations\u001b[49m\u001b[43m,\u001b[49m\u001b[43m \u001b[49m\u001b[43mfiltered_phi\u001b[49m\u001b[43m,\u001b[49m\u001b[43m \u001b[49m\u001b[43mfiltered_nis\u001b[49m\u001b[43m,\u001b[49m\u001b[43m \u001b[49m\u001b[43mfiltered_s\u001b[49m\u001b[43m,\u001b[49m\u001b[43m \u001b[49m\u001b[43mmax_n_idx\u001b[49m\u001b[43m,\u001b[49m\u001b[43m \u001b[49m\u001b[43mmax_n\u001b[49m\u001b[43m,\u001b[49m\u001b[43m \u001b[49m\u001b[43mfiltered_max_n_dist\u001b[49m\u001b[43m)\u001b[49m\n",
      "File \u001b[1;32mc:\\Users\\Adem.ait\\OneDrive - University of Luxembourg\\Feina\\PhD\\sampling\\sample-creator\\numerical\\sampling.py:285\u001b[0m, in \u001b[0;36msampling_multiple\u001b[1;34m(classified_observations, phi, nis, s, max_n_idx, max_n, max_n_dist)\u001b[0m\n\u001b[0;32m    272\u001b[0m \u001b[38;5;28;01mdef\u001b[39;00m \u001b[38;5;21msampling_multiple\u001b[39m(classified_observations, phi, nis, s, max_n_idx, max_n, max_n_dist):\n\u001b[0;32m    273\u001b[0m \u001b[38;5;250m    \u001b[39m\u001b[38;5;124;03m\"\"\"\u001b[39;00m\n\u001b[0;32m    274\u001b[0m \u001b[38;5;124;03m    Perform sampling for all variables in classified_observations and print the results.\u001b[39;00m\n\u001b[0;32m    275\u001b[0m \n\u001b[1;32m   (...)\u001b[0m\n\u001b[0;32m    283\u001b[0m \u001b[38;5;124;03m    - max_n_dist (list): List representing the distribution of the stratum with the maximum sample size.\u001b[39;00m\n\u001b[0;32m    284\u001b[0m \u001b[38;5;124;03m    \"\"\"\u001b[39;00m\n\u001b[1;32m--> 285\u001b[0m     variable_names \u001b[38;5;241m=\u001b[39m \u001b[38;5;28mlist\u001b[39m(\u001b[43mvariables\u001b[49m\u001b[38;5;241m.\u001b[39mkeys()) \u001b[38;5;66;03m# TODO: Where does this variable come from? Which variable should be?\u001b[39;00m\n\u001b[0;32m    287\u001b[0m     \u001b[38;5;28;01mfor\u001b[39;00m idx, variable_name \u001b[38;5;129;01min\u001b[39;00m \u001b[38;5;28menumerate\u001b[39m(variable_names): \n\u001b[0;32m    288\u001b[0m         \u001b[38;5;28;01mif\u001b[39;00m idx \u001b[38;5;241m==\u001b[39m \u001b[38;5;241m0\u001b[39m:\n",
      "\u001b[1;31mNameError\u001b[0m: name 'variables' is not defined"
     ]
    }
   ],
   "source": [
    "num_sampling.sampling_multiple(filtered_classified_observations, filtered_phi, filtered_nis, filtered_s, max_n_idx, max_n, filtered_max_n_dist)\n"
   ]
  },
  {
   "cell_type": "code",
   "execution_count": 24,
   "metadata": {},
   "outputs": [
    {
     "name": "stdout",
     "output_type": "stream",
     "text": [
      "Population size (N): 557984\n",
      "Means (mu): [1.1097880942822733, 1329.2409854045993]\n"
     ]
    },
    {
     "ename": "TypeError",
     "evalue": "unhashable type: 'slice'",
     "output_type": "error",
     "traceback": [
      "\u001b[1;31m---------------------------------------------------------------------------\u001b[0m",
      "\u001b[1;31mTypeError\u001b[0m                                 Traceback (most recent call last)",
      "Cell \u001b[1;32mIn[24], line 5\u001b[0m\n\u001b[0;32m      3\u001b[0m \u001b[38;5;28mprint\u001b[39m(\u001b[38;5;124m\"\u001b[39m\u001b[38;5;124mMeans (mu):\u001b[39m\u001b[38;5;124m\"\u001b[39m, mu)\n\u001b[0;32m      4\u001b[0m nis, phi \u001b[38;5;241m=\u001b[39m num_sampling\u001b[38;5;241m.\u001b[39mnis_phi(strata, N) \u001b[38;5;66;03m# Calculate the stratum proportions\u001b[39;00m\n\u001b[1;32m----> 5\u001b[0m s \u001b[38;5;241m=\u001b[39m \u001b[43mnum_sampling\u001b[49m\u001b[38;5;241;43m.\u001b[39;49m\u001b[43mcalculate_variable_std_devs_multiple\u001b[49m\u001b[43m(\u001b[49m\u001b[43mstrata\u001b[49m\u001b[43m)\u001b[49m \u001b[38;5;66;03m# Calculate the standard deviations for each stratum, TODO: which variable should we put here?\u001b[39;00m\n\u001b[0;32m      6\u001b[0m \u001b[38;5;28mprint\u001b[39m(\u001b[38;5;124m\"\u001b[39m\u001b[38;5;124mnis:\u001b[39m\u001b[38;5;124m\"\u001b[39m, \u001b[38;5;28mlen\u001b[39m(nis), nis)\n\u001b[0;32m      7\u001b[0m \u001b[38;5;28mprint\u001b[39m(\u001b[38;5;124m\"\u001b[39m\u001b[38;5;124mphi:\u001b[39m\u001b[38;5;124m\"\u001b[39m, \u001b[38;5;28mlen\u001b[39m(phi), phi)\n",
      "File \u001b[1;32mc:\\Users\\Adem.ait\\OneDrive - University of Luxembourg\\Feina\\PhD\\sampling\\sample-creator\\numerical\\sampling.py:86\u001b[0m, in \u001b[0;36mcalculate_variable_std_devs_multiple\u001b[1;34m(classified_observations)\u001b[0m\n\u001b[0;32m     83\u001b[0m \u001b[38;5;66;03m# Iterate over each stratum\u001b[39;00m\n\u001b[0;32m     84\u001b[0m \u001b[38;5;28;01mfor\u001b[39;00m stratum_observations \u001b[38;5;129;01min\u001b[39;00m classified_observations\u001b[38;5;241m.\u001b[39mvalues():\n\u001b[0;32m     85\u001b[0m     \u001b[38;5;66;03m# Get the values of the current variable in the current stratum\u001b[39;00m\n\u001b[1;32m---> 86\u001b[0m     variable_values \u001b[38;5;241m=\u001b[39m [\u001b[38;5;28mfloat\u001b[39m(obs[variable_index]) \u001b[38;5;28;01mfor\u001b[39;00m obs \u001b[38;5;129;01min\u001b[39;00m \u001b[43mstratum_observations\u001b[49m\u001b[43m[\u001b[49m\u001b[38;5;241;43m1\u001b[39;49m\u001b[43m:\u001b[49m\u001b[43m]\u001b[49m \u001b[38;5;28;01mif\u001b[39;00m \u001b[38;5;28misinstance\u001b[39m(obs[variable_index], (\u001b[38;5;28mint\u001b[39m, \u001b[38;5;28mfloat\u001b[39m))]\n\u001b[0;32m     88\u001b[0m     \u001b[38;5;28;01mif\u001b[39;00m variable_values:\n\u001b[0;32m     89\u001b[0m         \u001b[38;5;66;03m# Calculate the standard deviation of the values of the current variable in the current stratum\u001b[39;00m\n\u001b[0;32m     90\u001b[0m         std_dev \u001b[38;5;241m=\u001b[39m np\u001b[38;5;241m.\u001b[39mstd(variable_values)\n",
      "\u001b[1;31mTypeError\u001b[0m: unhashable type: 'slice'"
     ]
    }
   ],
   "source": [
    "N, mu = num_sampling.extract_population_size_and_means(statistics)\n",
    "print(\"Population size (N):\", N)\n",
    "print(\"Means (mu):\", mu)\n",
    "nis, phi = num_sampling.nis_phi(strata, N) # Calculate the stratum proportions\n",
    "s = num_sampling.calculate_variable_std_devs_multiple(strata) # Calculate the standard deviations for each stratum, TODO: which variable should we put here?\n",
    "print(\"nis:\", len(nis), nis)\n",
    "print(\"phi:\", len(phi), phi)\n",
    "print(\"s: \", s)\n",
    "print(\"s:\")\n",
    "for variable_index, std_devs_for_variable in enumerate(s, start=1):\n",
    "    print(f\"  Variable {variable_index}: {std_devs_for_variable}\")\n",
    "\n",
    "sample_sizes, strata_2 = num_sampling.calculate_sample_sizes(mu, 0.95, phi, s, 2, N, nis) # Call the function to calculate sample sizes\n",
    "print(\"Size of the global sample:\", sample_sizes)\n",
    "print(\"Sample sizes for each stratum:\", strata_2)"
   ]
  }
 ],
 "metadata": {
  "kernelspec": {
   "display_name": "Python 3",
   "language": "python",
   "name": "python3"
  },
  "language_info": {
   "codemirror_mode": {
    "name": "ipython",
    "version": 3
   },
   "file_extension": ".py",
   "mimetype": "text/x-python",
   "name": "python",
   "nbconvert_exporter": "python",
   "pygments_lexer": "ipython3",
   "version": "3.9.19"
  }
 },
 "nbformat": 4,
 "nbformat_minor": 2
}
