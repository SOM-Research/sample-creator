{
 "cells": [
  {
   "cell_type": "code",
   "execution_count": 19,
   "metadata": {},
   "outputs": [
    {
     "data": {
      "text/plain": [
       "<module 'numerical.sampling' from 'c:\\\\Users\\\\Adem.ait\\\\OneDrive - University of Luxembourg\\\\Feina\\\\PhD\\\\sampling\\\\sample-creator\\\\numerical\\\\sampling.py'>"
      ]
     },
     "execution_count": 19,
     "metadata": {},
     "output_type": "execute_result"
    }
   ],
   "source": [
    "import numerical.sampling as num_sampling\n",
    "import utils.preprocessing as preprocessing\n",
    "import numerical.stratification as num_stratification\n",
    "\n",
    "import importlib \n",
    "\n",
    "importlib.reload(num_sampling) "
   ]
  },
  {
   "cell_type": "code",
   "execution_count": 8,
   "metadata": {},
   "outputs": [
    {
     "name": "stdout",
     "output_type": "stream",
     "text": [
      "PREPROCESSING:\n",
      "The dataframe does not contain NaN values.\n",
      "                                     name  likes\n",
      "0                  0-hero/OIG-small-chip2      8\n",
      "1                   0-hero/prompt-perfect      0\n",
      "2                        000alen/semantic      0\n",
      "3                      000hen/captchaCode      0\n",
      "4                        003myjoker1/test      0\n",
      "...                                   ...    ...\n",
      "674822               zzzzxx/5656ChatPaper      0\n",
      "674823                   zzzzxx/ChatPaper      0\n",
      "674824                  zzzzzz/text2image      1\n",
      "674825               zzzzzz567/Real-CUGAN      0\n",
      "674826  zzzzzz567/vits-uma-genshin-honkai      0\n",
      "\n",
      "[674827 rows x 2 columns]\n",
      "Statistics for numerical variable 'likes':\n",
      "  Population Size: 674827\n",
      "  Mean: 1.134440382498033\n",
      "  Median: 0.0\n",
      "  Standard Deviation: 28.127517598840843\n",
      "\n"
     ]
    }
   ],
   "source": [
    "# MAIN CODE - PREPROCESSING\n",
    "print(\"PREPROCESSING:\")\n",
    "file_path = r\"type_likes.csv\"\n",
    "df = preprocessing.read_dataframe(file_path)\n",
    "# print(df)\n",
    "df = df.drop(\"type\", axis=1)\n",
    "preprocessing.remove_nan_df(df)\n",
    "print(df)\n",
    "variables = preprocessing.create_lists_from_df(df) #diccionario de las variables -> lista de valores\n",
    "statistics = preprocessing.print_and_collect_statistics(variables)"
   ]
  },
  {
   "cell_type": "code",
   "execution_count": 10,
   "metadata": {},
   "outputs": [
    {
     "name": "stdout",
     "output_type": "stream",
     "text": [
      "STRATIFICATION:\n",
      "Variable: likes\n",
      "  Stratum 1: 674493 points\n",
      "  Stratum 2: 21 points\n",
      "  Stratum 3: 313 points\n"
     ]
    }
   ],
   "source": [
    "print(\"STRATIFICATION:\")\n",
    "num_clusters_list = [3, 3] # Specify the number of clusters for each variable\n",
    "strata = num_stratification.create_stratum_kmeans(variables, num_clusters_list) # Apply KMeans clustering to each variable\n",
    "num_stratification.print_stratum_counts(strata) #Print the number of elements in each stratum for each variable"
   ]
  },
  {
   "cell_type": "code",
   "execution_count": 20,
   "metadata": {},
   "outputs": [
    {
     "name": "stdout",
     "output_type": "stream",
     "text": [
      "PRE-SAMPLING\n",
      "Population size (N): 674827\n",
      "Means (mu): [1.134440382498033]\n"
     ]
    },
    {
     "ename": "TypeError",
     "evalue": "unhashable type: 'slice'",
     "output_type": "error",
     "traceback": [
      "\u001b[1;31m---------------------------------------------------------------------------\u001b[0m",
      "\u001b[1;31mTypeError\u001b[0m                                 Traceback (most recent call last)",
      "Cell \u001b[1;32mIn[20], line 6\u001b[0m\n\u001b[0;32m      4\u001b[0m \u001b[38;5;28mprint\u001b[39m(\u001b[38;5;124m\"\u001b[39m\u001b[38;5;124mMeans (mu):\u001b[39m\u001b[38;5;124m\"\u001b[39m, mu)\n\u001b[0;32m      5\u001b[0m nis, phi \u001b[38;5;241m=\u001b[39m num_sampling\u001b[38;5;241m.\u001b[39mnis_phi(strata, N) \u001b[38;5;66;03m# Calculate the stratum proportions\u001b[39;00m\n\u001b[1;32m----> 6\u001b[0m s \u001b[38;5;241m=\u001b[39m \u001b[43mnum_sampling\u001b[49m\u001b[38;5;241;43m.\u001b[39;49m\u001b[43mcalculate_variable_std_devs\u001b[49m\u001b[43m(\u001b[49m\u001b[43mstrata\u001b[49m\u001b[43m)\u001b[49m \u001b[38;5;66;03m# Calculate the standard deviations for each stratum\u001b[39;00m\n\u001b[0;32m      7\u001b[0m \u001b[38;5;28mprint\u001b[39m(\u001b[38;5;124m\"\u001b[39m\u001b[38;5;124mnis:\u001b[39m\u001b[38;5;124m\"\u001b[39m, \u001b[38;5;28mlen\u001b[39m(nis), nis)\n\u001b[0;32m      8\u001b[0m \u001b[38;5;28mprint\u001b[39m(\u001b[38;5;124m\"\u001b[39m\u001b[38;5;124mphi:\u001b[39m\u001b[38;5;124m\"\u001b[39m, \u001b[38;5;28mlen\u001b[39m(phi), phi)\n",
      "File \u001b[1;32mc:\\Users\\Adem.ait\\OneDrive - University of Luxembourg\\Feina\\PhD\\sampling\\sample-creator\\numerical\\sampling.py:66\u001b[0m, in \u001b[0;36mcalculate_variable_std_devs\u001b[1;34m(classified_observations)\u001b[0m\n\u001b[0;32m     63\u001b[0m \u001b[38;5;66;03m# Iterate over each stratum\u001b[39;00m\n\u001b[0;32m     64\u001b[0m \u001b[38;5;28;01mfor\u001b[39;00m stratum_observations \u001b[38;5;129;01min\u001b[39;00m classified_observations\u001b[38;5;241m.\u001b[39mvalues():\n\u001b[0;32m     65\u001b[0m     \u001b[38;5;66;03m# Get the values of the current variable in the current stratum\u001b[39;00m\n\u001b[1;32m---> 66\u001b[0m     variable_values \u001b[38;5;241m=\u001b[39m [\u001b[38;5;28mfloat\u001b[39m(obs[variable_index]) \u001b[38;5;28;01mfor\u001b[39;00m obs \u001b[38;5;129;01min\u001b[39;00m \u001b[43mstratum_observations\u001b[49m\u001b[43m[\u001b[49m\u001b[38;5;241;43m1\u001b[39;49m\u001b[43m:\u001b[49m\u001b[43m]\u001b[49m \u001b[38;5;28;01mif\u001b[39;00m \u001b[38;5;28misinstance\u001b[39m(obs[variable_index], (\u001b[38;5;28mint\u001b[39m, \u001b[38;5;28mfloat\u001b[39m))]\n\u001b[0;32m     68\u001b[0m     \u001b[38;5;28;01mif\u001b[39;00m variable_values:\n\u001b[0;32m     69\u001b[0m         \u001b[38;5;66;03m# Calculate the standard deviation of the values of the current variable in the current stratum\u001b[39;00m\n\u001b[0;32m     70\u001b[0m         std_dev \u001b[38;5;241m=\u001b[39m np\u001b[38;5;241m.\u001b[39mstd(variable_values)\n",
      "\u001b[1;31mTypeError\u001b[0m: unhashable type: 'slice'"
     ]
    }
   ],
   "source": [
    "print(\"PRE-SAMPLING\")\n",
    "N, mu = num_sampling.extract_population_size_and_means(statistics)\n",
    "print(\"Population size (N):\", N)\n",
    "print(\"Means (mu):\", mu)\n",
    "nis, phi = num_sampling.nis_phi(strata, N) # Calculate the stratum proportions\n",
    "s = num_sampling.calculate_variable_std_devs(strata) # Calculate the standard deviations for each stratum, TODO: which variable should we put here?\n",
    "print(\"nis:\", len(nis), nis)\n",
    "print(\"phi:\", len(phi), phi)\n",
    "print(\"s: \", s)\n",
    "print(\"s:\")\n",
    "for variable_index, std_devs_for_variable in enumerate(s, start=1):\n",
    "    print(f\"  Variable {variable_index}: {std_devs_for_variable}\")\n",
    "\n",
    "sample_sizes, strata_2 = num_sampling.calculate_sample_sizes(mu, 0.95, phi, s, 2, N, nis) # Call the function to calculate sample sizes\n",
    "print(\"Size of the global sample:\", sample_sizes)\n",
    "print(\"Sample sizes for each stratum:\", strata_2)"
   ]
  }
 ],
 "metadata": {
  "kernelspec": {
   "display_name": "Python 3",
   "language": "python",
   "name": "python3"
  },
  "language_info": {
   "codemirror_mode": {
    "name": "ipython",
    "version": 3
   },
   "file_extension": ".py",
   "mimetype": "text/x-python",
   "name": "python",
   "nbconvert_exporter": "python",
   "pygments_lexer": "ipython3",
   "version": "3.9.19"
  }
 },
 "nbformat": 4,
 "nbformat_minor": 2
}
