{
 "cells": [
  {
   "cell_type": "code",
   "execution_count": 33,
   "metadata": {},
   "outputs": [
    {
     "data": {
      "text/plain": [
       "<module 'Numerical_Stratification' from 'c:\\\\Users\\\\Adem.ait\\\\OneDrive - University of Luxembourg\\\\Feina\\\\PhD\\\\sampling\\\\sample-creator\\\\Numerical_Stratification.py'>"
      ]
     },
     "execution_count": 33,
     "metadata": {},
     "output_type": "execute_result"
    }
   ],
   "source": [
    "import Numerical_Stratification \n",
    "\n",
    "import importlib \n",
    "\n",
    "importlib.reload(Numerical_Stratification) "
   ]
  },
  {
   "cell_type": "code",
   "execution_count": 35,
   "metadata": {},
   "outputs": [
    {
     "name": "stdout",
     "output_type": "stream",
     "text": [
      "PREPROCESSING:\n",
      "                                     name     type  likes\n",
      "0                  0-hero/OIG-small-chip2  dataset      8\n",
      "1                   0-hero/prompt-perfect  dataset      0\n",
      "2                        000alen/semantic  dataset      0\n",
      "3                      000hen/captchaCode  dataset      0\n",
      "4                        003myjoker1/test  dataset      0\n",
      "...                                   ...      ...    ...\n",
      "674822               zzzzxx/5656ChatPaper    space      0\n",
      "674823                   zzzzxx/ChatPaper    space      0\n",
      "674824                  zzzzzz/text2image    space      1\n",
      "674825               zzzzzz567/Real-CUGAN    space      0\n",
      "674826  zzzzzz567/vits-uma-genshin-honkai    space      0\n",
      "\n",
      "[674827 rows x 3 columns]\n",
      "The dataframe does not contain NaN values.\n",
      "Statistics for numerical variable 'likes':\n",
      "  Population size: 674827\n",
      "  Mean: 1.134440382498033\n",
      "  Median: 0.0\n",
      "  Standard Deviation: 28.127517598840843\n",
      "\n"
     ]
    }
   ],
   "source": [
    "# MAIN CODE - PREPROCESSING\n",
    "print(\"PREPROCESSING:\")\n",
    "file_path = r\"type_likes.csv\"\n",
    "df = Numerical_Stratification.read_dataframe(file_path)\n",
    "print(df)\n",
    "df = df.drop(\"type\", axis=1)\n",
    "df_clean = Numerical_Stratification.analyze_df(df)\n",
    "variables = Numerical_Stratification.create_lists_from_df(df_clean) #diccionario de las variables -> lista de valores\n",
    "keys, values = Numerical_Stratification.dictionary_to_lists(variables)\n",
    "statistics = Numerical_Stratification.print_and_collect_statistics(variables)"
   ]
  },
  {
   "cell_type": "code",
   "execution_count": 36,
   "metadata": {},
   "outputs": [
    {
     "name": "stdout",
     "output_type": "stream",
     "text": [
      "STRATIFICATION:\n",
      "Variable: likes\n",
      "  Stratum 1: 674493 points\n",
      "  Stratum 2: 21 points\n",
      "  Stratum 3: 313 points\n"
     ]
    }
   ],
   "source": [
    "# MAIN CODE - STRATIFICATION\n",
    "# elbow_method(values, 5)\n",
    "print(\"STRATIFICATION:\")\n",
    "num_clusters_list = [3, 3] # Specify the number of clusters for each variable\n",
    "strata = Numerical_Stratification.create_stratum_kmeans(variables, num_clusters_list) # Apply KMeans clustering to each variable\n",
    "Numerical_Stratification.print_stratum_counts(strata) #Print the number of elements in each stratum for each variable"
   ]
  },
  {
   "cell_type": "code",
   "execution_count": 37,
   "metadata": {},
   "outputs": [
    {
     "name": "stdout",
     "output_type": "stream",
     "text": [
      "COMBINATION:\n",
      "Ranges: {'likes': [[0, 315], [2285, 9909], [317, 1930]]}\n",
      "Combinations of ranges:\n",
      "[[0, 315]]\n",
      "[[2285, 9909]]\n",
      "[[317, 1930]]\n",
      "3\n",
      "674827\n",
      "\n",
      "Before dropping empty strata:\n",
      "Stratum [[0, 315]]: 674493 observations\n",
      "Stratum [[2285, 9909]]: 21 observations\n",
      "Stratum [[317, 1930]]: 313 observations\n",
      "\n",
      "Total sum of observations in all strata: 674827\n",
      "\n",
      "After dropping empty strata:\n",
      "Stratum [[0, 315]]: 674493 observations\n",
      "Stratum [[2285, 9909]]: 21 observations\n",
      "Stratum [[317, 1930]]: 313 observations\n",
      "\n",
      "Total sum of observations in all strata: 674827\n"
     ]
    }
   ],
   "source": [
    "# MAIN CODE - COMBINATION\n",
    "print(\"COMBINATION:\")\n",
    "stratum_ranges = Numerical_Stratification.get_stratum_ranges(strata)\n",
    "print(\"Ranges:\", stratum_ranges)\n",
    "strata_combinations = Numerical_Stratification.combination(stratum_ranges) \n",
    "print(\"Combinations of ranges:\") \n",
    "for comb in strata_combinations:\n",
    "    print(comb)\n",
    "print(len(strata_combinations))\n",
    "observations = Numerical_Stratification.df_to_list_observations(df_clean) # SE LLAMARÁ DESDE CLASSIFY_OBSERVATIONS\n",
    "print(len(observations))\n",
    "\n",
    "classified_observations_before = Numerical_Stratification.classify_observations(observations, strata_combinations)\n",
    "\n",
    "# Print the number of observations in each stratum in the order of defined strata\n",
    "print(\"\\nBefore dropping empty strata:\")\n",
    "Numerical_Stratification.print_combination_stratum_counts(classified_observations_before, strata_combinations)\n",
    "# Make a copy of classified observations\n",
    "classified_observations_after = classified_observations_before.copy()\n",
    "# Drop stratum with 0 observations\n",
    "Numerical_Stratification.drop_empty_strata(classified_observations_after, strata_combinations)\n",
    "# Print the number of observations in each stratum in the order of defined strata after dropping empty strata\n",
    "print(\"\\nAfter dropping empty strata:\")\n",
    "Numerical_Stratification.print_combination_stratum_counts(classified_observations_after, strata_combinations)"
   ]
  },
  {
   "cell_type": "code",
   "execution_count": 38,
   "metadata": {},
   "outputs": [
    {
     "name": "stdout",
     "output_type": "stream",
     "text": [
      "PRE-SAMPLING\n",
      "Population size (N): 674827\n",
      "Means (mu): [1.134440382498033]\n",
      "nis: 3 [674493, 21, 313]\n",
      "phi: 3 [0.9995050583334691, 3.111908681780664e-05, 0.0004638225797130227]\n",
      "s:  [[7.216813357658444, 1781.2013888103727, 351.4946950794105]]\n",
      "s:\n",
      "  Variable 1: [7.216813357658444, 1781.2013888103727, 351.4946950794105]\n",
      "Size of the global sample: [56879]\n",
      "Sample sizes for each stratum: [[56851, 2, 26]]\n",
      "Variable wiht Max n:  56879 [56851, 2, 26]\n",
      "Filtered max_n_dist: 3 [56851, 2, 26]\n",
      "Filtered phi: 3 [0.9995050583334691, 3.111908681780664e-05, 0.0004638225797130227]\n",
      "Filtered nis: 3 [674493, 21, 313]\n",
      "Filtered s: 1 [[7.216813357658444, 1781.2013888103727, 351.4946950794105]]\n",
      "Filtered classified_observations: 3\n"
     ]
    }
   ],
   "source": [
    "# MAIN CODE - PRESAMPLING\n",
    "print(\"PRE-SAMPLING\")\n",
    "N, mu = Numerical_Stratification.extract_population_size_and_means(statistics)\n",
    "print(\"Population size (N):\", N)\n",
    "print(\"Means (mu):\", mu)\n",
    "nis, phi = Numerical_Stratification.nis_phi(classified_observations_after, N) # Calculate the stratum proportions\n",
    "s = Numerical_Stratification.calculate_variable_std_devs(classified_observations_after) # Calculate the standard deviations for each stratum\n",
    "print(\"nis:\", len(nis), nis)\n",
    "print(\"phi:\", len(phi), phi)\n",
    "print(\"s: \", s)\n",
    "print(\"s:\")\n",
    "for variable_index, std_devs_for_variable in enumerate(s, start=1):\n",
    "    print(f\"  Variable {variable_index}: {std_devs_for_variable}\")\n",
    "\n",
    "sample_sizes, strata = Numerical_Stratification.calculate_sample_sizes(mu, 0.95, phi, s, 2, N, nis) # Call the function to calculate sample sizes\n",
    "print(\"Size of the global sample:\", sample_sizes)\n",
    "print(\"Sample sizes for each stratum:\", strata)\n",
    "\n",
    "max_n, max_n_dist, max_n_idx = Numerical_Stratification.get_max_sample_distribution(sample_sizes, strata)\n",
    "print(\"Variable wiht Max n: \", max_n, max_n_dist)\n",
    "\n",
    "filtered_max_n_dist, filtered_phi, filtered_nis, filtered_s, filtered_classified_observations = Numerical_Stratification.filter_zero_strata(\n",
    "    max_n_dist=max_n_dist,\n",
    "    phi=phi,\n",
    "    nis=nis,\n",
    "    s=s,\n",
    "    max_n_idx=max_n_idx,\n",
    "    classified_observations=classified_observations_after\n",
    ")\n",
    "\n",
    "print(\"Filtered max_n_dist:\", len(filtered_max_n_dist), filtered_max_n_dist)\n",
    "print(\"Filtered phi:\", len(filtered_phi), filtered_phi)\n",
    "print(\"Filtered nis:\", len(filtered_nis), filtered_nis)\n",
    "print(\"Filtered s:\", len(filtered_s), filtered_s)\n",
    "print(\"Filtered classified_observations:\", len(filtered_classified_observations))"
   ]
  },
  {
   "cell_type": "code",
   "execution_count": 27,
   "metadata": {},
   "outputs": [
    {
     "ename": "NameError",
     "evalue": "name 'variables' is not defined",
     "output_type": "error",
     "traceback": [
      "\u001b[1;31m---------------------------------------------------------------------------\u001b[0m",
      "\u001b[1;31mNameError\u001b[0m                                 Traceback (most recent call last)",
      "Cell \u001b[1;32mIn[27], line 3\u001b[0m\n\u001b[0;32m      1\u001b[0m \u001b[38;5;66;03m# MAIN - SAMPLING \u001b[39;00m\n\u001b[0;32m      2\u001b[0m \u001b[38;5;66;03m# Assuming `filtered_classified_observations`, `filtered_phi`, `filtered_nis`, `filtered_s`, `max_n_idx`, `max_n`, and `filtered_max_n_dist` are defined in the context of your program\u001b[39;00m\n\u001b[1;32m----> 3\u001b[0m \u001b[43mNumerical_Stratification\u001b[49m\u001b[38;5;241;43m.\u001b[39;49m\u001b[43mautomated_sampling\u001b[49m\u001b[43m(\u001b[49m\u001b[43mfiltered_classified_observations\u001b[49m\u001b[43m,\u001b[49m\u001b[43m \u001b[49m\u001b[43mfiltered_phi\u001b[49m\u001b[43m,\u001b[49m\u001b[43m \u001b[49m\u001b[43mfiltered_nis\u001b[49m\u001b[43m,\u001b[49m\u001b[43m \u001b[49m\u001b[43mfiltered_s\u001b[49m\u001b[43m,\u001b[49m\u001b[43m \u001b[49m\u001b[43mmax_n_idx\u001b[49m\u001b[43m,\u001b[49m\u001b[43m \u001b[49m\u001b[43mmax_n\u001b[49m\u001b[43m,\u001b[49m\u001b[43m \u001b[49m\u001b[43mfiltered_max_n_dist\u001b[49m\u001b[43m)\u001b[49m\n",
      "File \u001b[1;32mc:\\Users\\Adem.ait\\OneDrive - University of Luxembourg\\Feina\\PhD\\sampling\\sample-creator\\Numerical_Stratification.py:605\u001b[0m, in \u001b[0;36mautomated_sampling\u001b[1;34m(classified_observations, phi, nis, s, max_n_idx, max_n, max_n_dist)\u001b[0m\n\u001b[0;32m    592\u001b[0m \u001b[38;5;28;01mdef\u001b[39;00m \u001b[38;5;21mautomated_sampling\u001b[39m(classified_observations, phi, nis, s, max_n_idx, max_n, max_n_dist): \u001b[38;5;66;03m# ONLY FOR NUMERICALS\u001b[39;00m\n\u001b[0;32m    593\u001b[0m \u001b[38;5;250m    \u001b[39m\u001b[38;5;124;03m\"\"\"\u001b[39;00m\n\u001b[0;32m    594\u001b[0m \u001b[38;5;124;03m    Perform sampling for all variables in classified_observations and print the results.\u001b[39;00m\n\u001b[0;32m    595\u001b[0m \n\u001b[1;32m   (...)\u001b[0m\n\u001b[0;32m    603\u001b[0m \u001b[38;5;124;03m    - max_n_dist (list): List representing the distribution of the stratum with the maximum sample size.\u001b[39;00m\n\u001b[0;32m    604\u001b[0m \u001b[38;5;124;03m    \"\"\"\u001b[39;00m\n\u001b[1;32m--> 605\u001b[0m     variable_names \u001b[38;5;241m=\u001b[39m \u001b[38;5;28mlist\u001b[39m(\u001b[43mvariables\u001b[49m\u001b[38;5;241m.\u001b[39mkeys()) \n\u001b[0;32m    607\u001b[0m     \u001b[38;5;28;01mfor\u001b[39;00m idx, variable_name \u001b[38;5;129;01min\u001b[39;00m \u001b[38;5;28menumerate\u001b[39m(variable_names): \n\u001b[0;32m    608\u001b[0m         \u001b[38;5;28;01mif\u001b[39;00m idx \u001b[38;5;241m==\u001b[39m \u001b[38;5;241m0\u001b[39m:\n",
      "\u001b[1;31mNameError\u001b[0m: name 'variables' is not defined"
     ]
    }
   ],
   "source": [
    "\n",
    "# MAIN - SAMPLING \n",
    "# Assuming `filtered_classified_observations`, `filtered_phi`, `filtered_nis`, `filtered_s`, `max_n_idx`, `max_n`, and `filtered_max_n_dist` are defined in the context of your program\n",
    "Numerical_Stratification.automated_sampling(filtered_classified_observations, filtered_phi, filtered_nis, filtered_s, max_n_idx, max_n, filtered_max_n_dist)"
   ]
  }
 ],
 "metadata": {
  "kernelspec": {
   "display_name": "Python 3",
   "language": "python",
   "name": "python3"
  },
  "language_info": {
   "codemirror_mode": {
    "name": "ipython",
    "version": 3
   },
   "file_extension": ".py",
   "mimetype": "text/x-python",
   "name": "python",
   "nbconvert_exporter": "python",
   "pygments_lexer": "ipython3",
   "version": "3.9.19"
  }
 },
 "nbformat": 4,
 "nbformat_minor": 2
}
