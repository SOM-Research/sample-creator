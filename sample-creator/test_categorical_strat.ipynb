{
 "cells": [
  {
   "cell_type": "code",
   "execution_count": 10,
   "metadata": {},
   "outputs": [
    {
     "data": {
      "text/plain": [
       "<module 'Categorical_Stratification' from 'c:\\\\Users\\\\Adem.ait\\\\OneDrive - University of Luxembourg\\\\Feina\\\\PhD\\\\sampling\\\\sample-creator\\\\Categorical_Stratification.py'>"
      ]
     },
     "execution_count": 10,
     "metadata": {},
     "output_type": "execute_result"
    }
   ],
   "source": [
    "import Categorical_Stratification \n",
    "\n",
    "import importlib \n",
    "\n",
    "importlib.reload(Categorical_Stratification) "
   ]
  },
  {
   "cell_type": "code",
   "execution_count": 11,
   "metadata": {},
   "outputs": [
    {
     "name": "stdout",
     "output_type": "stream",
     "text": [
      "PREPROCESSING:\n",
      "                                     name     type  likes\n",
      "0                  0-hero/OIG-small-chip2  dataset      8\n",
      "1                   0-hero/prompt-perfect  dataset      0\n",
      "2                        000alen/semantic  dataset      0\n",
      "3                      000hen/captchaCode  dataset      0\n",
      "4                        003myjoker1/test  dataset      0\n",
      "...                                   ...      ...    ...\n",
      "674822               zzzzxx/5656ChatPaper    space      0\n",
      "674823                   zzzzxx/ChatPaper    space      0\n",
      "674824                  zzzzzz/text2image    space      1\n",
      "674825               zzzzzz567/Real-CUGAN    space      0\n",
      "674826  zzzzzz567/vits-uma-genshin-honkai    space      0\n",
      "\n",
      "[674827 rows x 3 columns]\n",
      "The dataframe does not contain NaN values.\n",
      "{'type': Counter({'model': 456303, 'space': 116843, 'dataset': 101681})}\n",
      "keys:  ['name', 'type'] values:  2\n",
      "All keys:  [['dataset', 'model', 'space']]\n",
      "All values:  1\n",
      "Statistics for categorical variable 'type':\n",
      "  Population Size: 674827\n",
      "\n"
     ]
    }
   ],
   "source": [
    "print(\"PREPROCESSING:\")\n",
    "file_path = r\"type_likes.csv\" # Read the CSV file without an index\n",
    "df = Categorical_Stratification.read_dataframe(file_path)\n",
    "print(df) # Display the DataFrame with the new index\n",
    "df = df.drop(\"likes\", axis=1)\n",
    "df_clean = Categorical_Stratification.analyze_df(df)\n",
    "variables = Categorical_Stratification.create_variables_dict_from_df(df_clean) #diccionario de las variables -> lista de valores\n",
    "counters = Categorical_Stratification.count_elements_in_variables(variables)\n",
    "print(counters)\n",
    "\n",
    "keys, values = Categorical_Stratification.dictionary_to_lists(variables)\n",
    "print(\"keys: \", keys, \"values: \", len(values))\n",
    "all_keys, all_values = Categorical_Stratification.dictionary_to_all_lists(counters)\n",
    "print(\"All keys: \", all_keys)\n",
    "print(\"All values: \", len(all_values))\n",
    "\n",
    "statistics = Categorical_Stratification.print_and_collect_statistics(variables)\n",
    "#plot_pie_charts(keys, values)"
   ]
  },
  {
   "cell_type": "code",
   "execution_count": 12,
   "metadata": {},
   "outputs": [
    {
     "name": "stdout",
     "output_type": "stream",
     "text": [
      "STRATIFICATION\n",
      "STRATA DICT:\n",
      "Strata for variable 'type': 3\n",
      "Length of stratum 1: 101681\n",
      "Length of stratum 2: 456303\n",
      "Length of stratum 3: 116843\n"
     ]
    }
   ],
   "source": [
    "\n",
    "# MAIN CODE - STRATIFICATION Categoricals\n",
    "print(\"STRATIFICATION\")\n",
    "# Call the create_strata function to create the strata\n",
    "strata_dict = Categorical_Stratification.create_strata(counters) \n",
    "# Print the lengths of each stratum and each sublist in each variable\n",
    "print(\"STRATA DICT:\")\n",
    "for variable, strata in strata_dict.items():\n",
    "    print(f\"Strata for variable '{variable}': {len(strata)}\")\n",
    "    for i, sublist in enumerate(strata, start=1):\n",
    "        print(f\"Length of stratum {i}: {len(sublist)}\")"
   ]
  },
  {
   "cell_type": "code",
   "execution_count": null,
   "metadata": {},
   "outputs": [],
   "source": [
    "\n",
    "# MAIN CODE - COMBINATION\n",
    "print(\"COMBINATION\")\n",
    "combination_strata = Categorical_Stratification.combination(all_keys)\n",
    "print(combination_strata)\n",
    "observations = Categorical_Stratification.df_to_list_observations(df_clean)\n",
    "\n",
    "count_onservations_combination = Categorical_Stratification.count_combinations(observations, combination_strata)\n",
    "print(count_onservations_combination)\n",
    "\n",
    "classified_observations = Categorical_Stratification.classify_observations(observations, combination_strata)\n",
    "print(\"CLASSIFIED OBSERVATIONS\")\n",
    "for comb, obs_list in classified_observations.items():\n",
    "    print(f\"Stratum {comb}: {len(obs_list)} observations\")\n",
    "\n",
    "# Verificar que cada sublista en las listas del diccionario tenga tres elementos\n",
    "for comb, obs_list in classified_observations.items():\n",
    "    for obs in obs_list:\n",
    "        if len(obs) != 3:\n",
    "            raise ValueError(f\"Each sublist in the observations associated with combination {comb} must have a length of three.\")\n",
    "        "
   ]
  },
  {
   "cell_type": "code",
   "execution_count": 14,
   "metadata": {},
   "outputs": [
    {
     "name": "stdout",
     "output_type": "stream",
     "text": [
      "Population Size: 674827\n",
      "Number of observations in each stratum (nis): [3]\n",
      "Proportion of each stratum (phi): [4.445583831115234e-06]\n"
     ]
    }
   ],
   "source": [
    "\n",
    "# MAIN CODE - PRESAMPLING\n",
    "N, means = Categorical_Stratification.extract_population_size_and_means(statistics)\n",
    "print(f\"Population Size: {N}\")\n",
    "nis, phi = Categorical_Stratification.nis_phi(strata_dict, N)\n",
    "print(f\"Number of observations in each stratum (nis): {nis}\")\n",
    "print(f\"Proportion of each stratum (phi): {phi}\")"
   ]
  },
  {
   "cell_type": "code",
   "execution_count": 16,
   "metadata": {},
   "outputs": [
    {
     "name": "stdout",
     "output_type": "stream",
     "text": [
      "Required sample size: 385\n"
     ]
    },
    {
     "ename": "KeyError",
     "evalue": "0",
     "output_type": "error",
     "traceback": [
      "\u001b[1;31m---------------------------------------------------------------------------\u001b[0m",
      "\u001b[1;31mKeyError\u001b[0m                                  Traceback (most recent call last)",
      "Cell \u001b[1;32mIn[16], line 6\u001b[0m\n\u001b[0;32m      3\u001b[0m n \u001b[38;5;241m=\u001b[39m Categorical_Stratification\u001b[38;5;241m.\u001b[39msample_size(epsilon, confidence)\n\u001b[0;32m      4\u001b[0m \u001b[38;5;28mprint\u001b[39m(\u001b[38;5;124m\"\u001b[39m\u001b[38;5;124mRequired sample size:\u001b[39m\u001b[38;5;124m\"\u001b[39m, n)\n\u001b[1;32m----> 6\u001b[0m ni_size \u001b[38;5;241m=\u001b[39m \u001b[43mCategorical_Stratification\u001b[49m\u001b[38;5;241;43m.\u001b[39;49m\u001b[43mdetermine_ni_size\u001b[49m\u001b[43m(\u001b[49m\u001b[43mphi\u001b[49m\u001b[43m,\u001b[49m\u001b[43m \u001b[49m\u001b[43mstrata_dict\u001b[49m\u001b[43m,\u001b[49m\u001b[43m \u001b[49m\u001b[43mn\u001b[49m\u001b[43m)\u001b[49m\n\u001b[0;32m      7\u001b[0m \u001b[38;5;28mprint\u001b[39m(\u001b[38;5;124m\"\u001b[39m\u001b[38;5;124mSAMPLE SIZE OF EACH STRATUM\u001b[39m\u001b[38;5;124m\"\u001b[39m)\n\u001b[0;32m      8\u001b[0m \u001b[38;5;28;01mfor\u001b[39;00m stratum_key, size \u001b[38;5;129;01min\u001b[39;00m ni_size\u001b[38;5;241m.\u001b[39mitems():\n",
      "File \u001b[1;32mc:\\Users\\Adem.ait\\OneDrive - University of Luxembourg\\Feina\\PhD\\sampling\\sample-creator\\Categorical_Stratification.py:418\u001b[0m, in \u001b[0;36mdetermine_ni_size\u001b[1;34m(phi, combination_strata, n)\u001b[0m\n\u001b[0;32m    416\u001b[0m \u001b[38;5;66;03m# Calculate the initial sample size for each stratum\u001b[39;00m\n\u001b[0;32m    417\u001b[0m \u001b[38;5;28;01mfor\u001b[39;00m i, proportion \u001b[38;5;129;01min\u001b[39;00m \u001b[38;5;28menumerate\u001b[39m(phi):\n\u001b[1;32m--> 418\u001b[0m     stratum_key \u001b[38;5;241m=\u001b[39m \u001b[38;5;124mf\u001b[39m\u001b[38;5;124m\"\u001b[39m\u001b[38;5;124m(\u001b[39m\u001b[38;5;132;01m{\u001b[39;00mcombination_strata[i][\u001b[38;5;241m0\u001b[39m]\u001b[38;5;132;01m}\u001b[39;00m\u001b[38;5;124m, \u001b[39m\u001b[38;5;132;01m{\u001b[39;00mcombination_strata[i][\u001b[38;5;241m1\u001b[39m]\u001b[38;5;132;01m}\u001b[39;00m\u001b[38;5;124m)\u001b[39m\u001b[38;5;124m\"\u001b[39m\n\u001b[0;32m    419\u001b[0m     ni \u001b[38;5;241m=\u001b[39m \u001b[38;5;28mround\u001b[39m(proportion \u001b[38;5;241m*\u001b[39m n)  \u001b[38;5;66;03m# Calculate the sample size for the current stratum\u001b[39;00m\n\u001b[0;32m    420\u001b[0m     n_stratum[stratum_key] \u001b[38;5;241m=\u001b[39m ni  \u001b[38;5;66;03m# Store the sample size in the dictionary\u001b[39;00m\n",
      "\u001b[1;31mKeyError\u001b[0m: 0"
     ]
    }
   ],
   "source": [
    "epsilon = 0.05\n",
    "confidence = 0.95\n",
    "n = Categorical_Stratification.sample_size(epsilon, confidence)\n",
    "print(\"Required sample size:\", n)\n",
    "\n",
    "ni_size = Categorical_Stratification.determine_ni_size(phi, combination_strata, n)\n",
    "print(\"SAMPLE SIZE OF EACH STRATUM\")\n",
    "for stratum_key, size in ni_size.items():\n",
    "    print(f\"Stratum {stratum_key}: {size} observations\")\n",
    "\n",
    "# Create the stratified sample\n",
    "sample = Categorical_Stratification.create_sample(ni_size, strata_dict)\n",
    "\n",
    "# Print the stratified sample size and a few sample entries to verify\n",
    "print(f\"Total stratified sample size: {len(sample)}\")\n",
    "print(\"Sample entries:\")\n",
    "for i in range(10):  # Print the first 10 sample entries\n",
    "    print(sample[i])\n",
    "\n",
    "# Llamada a la función para contar las combinaciones\n",
    "final_combination_counts = Categorical_Stratification.count_combinations_final(sample)\n",
    "\n",
    "# Imprimir el resultado\n",
    "print(\"Counts of each combination:\")\n",
    "for combination, count in final_combination_counts.items():\n",
    "    print(f\"Combination: {combination}, Count: {count}\")"
   ]
  }
 ],
 "metadata": {
  "kernelspec": {
   "display_name": "Python 3",
   "language": "python",
   "name": "python3"
  },
  "language_info": {
   "codemirror_mode": {
    "name": "ipython",
    "version": 3
   },
   "file_extension": ".py",
   "mimetype": "text/x-python",
   "name": "python",
   "nbconvert_exporter": "python",
   "pygments_lexer": "ipython3",
   "version": "3.9.19"
  }
 },
 "nbformat": 4,
 "nbformat_minor": 2
}
