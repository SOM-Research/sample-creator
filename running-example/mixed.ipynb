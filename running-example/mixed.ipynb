{
 "cells": [
  {
   "cell_type": "code",
   "execution_count": null,
   "metadata": {},
   "outputs": [],
   "source": [
    "import softsampling.mixed.sampling as mix_sampling\n",
    "import softsampling.utils.preprocessing as preprocessing\n",
    "import softsampling.mixed.stratification as mix_stratification\n",
    "import softsampling.mixed.combination as mix_combination"
   ]
  },
  {
   "cell_type": "markdown",
   "metadata": {},
   "source": [
    "## Sampling of mixed variables"
   ]
  },
  {
   "cell_type": "markdown",
   "metadata": {},
   "source": [
    "In this case, we sample two variables, one categorical and one numerical."
   ]
  },
  {
   "cell_type": "markdown",
   "metadata": {},
   "source": [
    "### Preprocessing"
   ]
  },
  {
   "cell_type": "code",
   "execution_count": null,
   "metadata": {},
   "outputs": [],
   "source": [
    "file_path = r\"type_likes.csv\"\n",
    "df = preprocessing.read_dataframe(file_path)\n",
    "df = df.drop(\"name\", axis=1)\n",
    "preprocessing.remove_nan_df(df)\n",
    "print(df[:10])\n",
    "\n",
    "variables = preprocessing.create_lists_from_df(df)\n",
    "numerical_variables, categorical_variables = preprocessing.separate_numerical_categorical(variables)\n",
    "\n",
    "print(\"Numerical variables:\")\n",
    "for variable_name, values in numerical_variables.items():\n",
    "    print(f\"{variable_name}: {len(values)}\")\n",
    "\n",
    "print(\"\\nCategorical variables:\")\n",
    "for variable_name, values in categorical_variables.items():\n",
    "    print(f\"{variable_name}: {len(values)}\")\n",
    "\n",
    "counters = preprocessing.count_elements_in_variables_single(categorical_variables)\n",
    "print(\"Counter: \", counters)\n",
    "all_keys, all_values = preprocessing.dictionary_to_all_lists(counters)\n",
    "\n",
    "# Only for numerical\n",
    "statistics = preprocessing.print_and_collect_statistics(variables)"
   ]
  },
  {
   "cell_type": "markdown",
   "metadata": {},
   "source": [
    "### Stratification"
   ]
  },
  {
   "cell_type": "code",
   "execution_count": null,
   "metadata": {},
   "outputs": [],
   "source": [
    "categorical_strata_dict = mix_stratification.create_strata_categoricals(counters) \n",
    "\n",
    "print(\"STRATA DICT:\")\n",
    "for variable, strata in categorical_strata_dict.items():\n",
    "    print(f\"Strata for variable '{variable}': {len(strata)}\")\n",
    "    for i, sublist in enumerate(strata, start=1):\n",
    "        print(f\"Length of stratum {i}: {len(sublist)}\")\n",
    "\n",
    "\n",
    "num_clusters_list = [3] # Elbow Method to be implemented in next release\n",
    "numerical_strata_dict = mix_stratification.create_strata_kmeans(numerical_variables, num_clusters_list) \n",
    "mix_stratification.print_stratum_counts(numerical_strata_dict) \n",
    "\n",
    "merged_strata = mix_stratification.merge_strata_dicts(categorical_strata_dict, numerical_strata_dict)\n",
    "print(\"MERGED STRATA\")\n",
    "\n",
    "for variable_name, stratum_list in merged_strata.items():\n",
    "    print(f\"Variable: {variable_name}\")\n",
    "    for i, stratum_values in enumerate(stratum_list):\n",
    "        print(f\"  Stratum {i + 1}: {len(stratum_values)} points\")"
   ]
  },
  {
   "cell_type": "markdown",
   "metadata": {},
   "source": [
    "### Combination"
   ]
  },
  {
   "cell_type": "code",
   "execution_count": null,
   "metadata": {},
   "outputs": [],
   "source": [
    "numerical_ranges = mix_combination.get_stratum_ranges(numerical_strata_dict)\n",
    "print(\"Ranges:\", numerical_ranges)\n",
    "combination_strata = mix_combination.combination(numerical_ranges, all_keys)\n",
    "print(combination_strata)\n",
    "print(len(combination_strata))\n",
    "observations = mix_combination.df_to_list_observations(df)\n",
    "\n",
    "classified_observations = mix_combination.classify_mixed_observations(observations, combination_strata)\n",
    "total_observations = 0\n",
    "for stratum, obs_list in classified_observations.items():\n",
    "    total_observations += len(obs_list)\n",
    "    print(f\"Stratum: {stratum}: {len(obs_list)} observations\")\n",
    "print(\"Total Observations:\", total_observations)"
   ]
  },
  {
   "cell_type": "markdown",
   "metadata": {},
   "source": [
    "### Sampling"
   ]
  },
  {
   "cell_type": "code",
   "execution_count": null,
   "metadata": {},
   "outputs": [],
   "source": [
    "N, means = mix_sampling.extract_population_size_and_means(statistics)\n",
    "print(f\"Population Size: {N}\")\n",
    "nis, phi = mix_sampling.nis_phi(classified_observations, N)\n",
    "print(f\"Number of observations in each stratum (nis): {nis}\")\n",
    "print(f\"Proportion of each stratum (phi): {phi}\")\n",
    "\n",
    "epsilon = 0.05\n",
    "confidence = 0.95\n",
    "n = mix_sampling.sample_size(epsilon, confidence)\n",
    "print(\"Required sample size:\", n)\n",
    "\n",
    "ni_size = mix_sampling.determine_ni_size(phi, combination_strata, n)\n",
    "print(\"Ssample size of each strata:\")\n",
    "for stratum_key, size in ni_size.items():\n",
    "    print(f\"Stratum {stratum_key}: {size} observations\")"
   ]
  },
  {
   "cell_type": "code",
   "execution_count": null,
   "metadata": {},
   "outputs": [],
   "source": [
    "combined_sample = mix_sampling.create_sample(classified_observations, ni_size)\n",
    "print(\"Combined Sample Size:\", len(combined_sample))\n",
    "\n",
    "print(\"\\nFirst 10 elements of the combined sample:\")\n",
    "for i in range(min(10, len(combined_sample))):\n",
    "    print(combined_sample[i])"
   ]
  }
 ],
 "metadata": {
  "kernelspec": {
   "display_name": "Python 3",
   "language": "python",
   "name": "python3"
  },
  "language_info": {
   "codemirror_mode": {
    "name": "ipython",
    "version": 3
   },
   "file_extension": ".py",
   "mimetype": "text/x-python",
   "name": "python",
   "nbconvert_exporter": "python",
   "pygments_lexer": "ipython3",
   "version": "3.9.19"
  }
 },
 "nbformat": 4,
 "nbformat_minor": 2
}
