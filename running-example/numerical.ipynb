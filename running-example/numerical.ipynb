{
 "cells": [
  {
   "cell_type": "code",
   "execution_count": null,
   "metadata": {},
   "outputs": [],
   "source": [
    "import softsampling.numerical.sampling as num_sampling\n",
    "import softsampling.utils.preprocessing as preprocessing\n",
    "import softsampling.numerical.stratification as num_stratification\n",
    "import softsampling.numerical.combination as num_combination"
   ]
  },
  {
   "cell_type": "markdown",
   "metadata": {},
   "source": [
    "## Numerical sampling of 1 variable"
   ]
  },
  {
   "cell_type": "markdown",
   "metadata": {},
   "source": [
    "### Preprocessing"
   ]
  },
  {
   "cell_type": "code",
   "execution_count": null,
   "metadata": {},
   "outputs": [],
   "source": [
    "file_path = r\"type_likes.csv\"\n",
    "df = preprocessing.read_dataframe(file_path)\n",
    "df = df.drop(columns=['type'])\n",
    "preprocessing.remove_nan_df(df)\n",
    "print(df)\n",
    "\n",
    "variables = preprocessing.create_lists_from_df(df) \n",
    "statistics = preprocessing.print_and_collect_statistics(variables)"
   ]
  },
  {
   "cell_type": "markdown",
   "metadata": {},
   "source": [
    "### Stratification"
   ]
  },
  {
   "cell_type": "code",
   "execution_count": null,
   "metadata": {},
   "outputs": [],
   "source": [
    "num_clusters_list = [3] # Elbow method to be implemented in future version\n",
    "strata = num_stratification.create_stratum_kmeans(variables, num_clusters_list) \n",
    "num_stratification.print_stratum_counts(strata) \n",
    "stratum_dict = num_stratification.get_stratum_dict(strata)"
   ]
  },
  {
   "cell_type": "markdown",
   "metadata": {},
   "source": [
    "### Sampling"
   ]
  },
  {
   "cell_type": "markdown",
   "metadata": {},
   "source": [
    "First, we calculate the required variables."
   ]
  },
  {
   "cell_type": "code",
   "execution_count": null,
   "metadata": {},
   "outputs": [],
   "source": [
    "print(\"PRE-SAMPLING\")\n",
    "N, mu = num_sampling.extract_population_size_and_means(statistics)\n",
    "print(\"Population size (N):\", N)\n",
    "print(\"Means (mu):\", mu)\n",
    "nis, phi = num_sampling.nis_phi(stratum_dict, N) \n",
    "s = num_sampling.calculate_std_devs_single(stratum_dict) \n",
    "print(\"nis:\", len(nis), nis)\n",
    "print(\"phi:\", len(phi), phi)\n",
    "print(\"s: \", s)\n",
    "\n",
    "epsilon = mu[0] * 0.1"
   ]
  },
  {
   "cell_type": "code",
   "execution_count": null,
   "metadata": {},
   "outputs": [],
   "source": [
    "n, ni = num_sampling.nStratifiedSampling(epsilon, 0.95, phi, s, 2, N, nis)\n",
    "print(\"Size of the global sample:\", n)\n",
    "print(\"Sample sizes for each stratum:\", ni)\n",
    "\n",
    "mean_estimate, sampling_error, lower_confidence_interval, upper_confidence_interval = num_sampling.sampling_single(\n",
    "    stratum_dict,   \n",
    "    phi,      \n",
    "    nis,      \n",
    "    s,        \n",
    "    ni        \n",
    ")\n",
    "\n",
    "print(\"\\nSampling process:\")\n",
    "print(\"N: \", N, \" --> n: \", n)\n",
    "print(\"Mu: \", mu[0], \" --> x-barra: \", mean_estimate)\n",
    "print(\"Confidence interval: (\", lower_confidence_interval, upper_confidence_interval, \")\")"
   ]
  }
 ],
 "metadata": {
  "kernelspec": {
   "display_name": "Python 3",
   "language": "python",
   "name": "python3"
  },
  "language_info": {
   "codemirror_mode": {
    "name": "ipython",
    "version": 3
   },
   "file_extension": ".py",
   "mimetype": "text/x-python",
   "name": "python",
   "nbconvert_exporter": "python",
   "pygments_lexer": "ipython3",
   "version": "3.9.19"
  }
 },
 "nbformat": 4,
 "nbformat_minor": 2
}
