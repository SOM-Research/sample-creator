{
 "cells": [
  {
   "cell_type": "code",
   "execution_count": null,
   "metadata": {},
   "outputs": [],
   "source": [
    "import softsampling.categorical.stratification as cat_stratification\n",
    "import softsampling.utils.preprocessing as preprocessing\n",
    "import softsampling.categorical.sampling as cat_sampling \n",
    "import softsampling.categorical.combination as cat_combination"
   ]
  },
  {
   "cell_type": "markdown",
   "metadata": {},
   "source": [
    "## Categorical sampling of 1 variable"
   ]
  },
  {
   "cell_type": "markdown",
   "metadata": {},
   "source": [
    "### Preprocessing"
   ]
  },
  {
   "cell_type": "code",
   "execution_count": null,
   "metadata": {},
   "outputs": [],
   "source": [
    "print(\"PREPROCESSING:\")\n",
    "file_path = r\"type_likes.csv\" \n",
    "df = preprocessing.read_dataframe(file_path)\n",
    "df = df.drop(\"likes\", axis=1)\n",
    "df = df.drop(\"name\", axis=1)\n",
    "print(df[:10])\n",
    "preprocessing.remove_nan_df(df)\n",
    "variables = preprocessing.create_lists_from_df(df) \n",
    "counters = preprocessing.count_elements_in_variables_single(variables)\n",
    "\n",
    "all_keys, all_values = preprocessing.dictionary_to_all_lists(counters)\n",
    "\n",
    "statistics = preprocessing.print_and_collect_statistics_single(variables)"
   ]
  },
  {
   "cell_type": "markdown",
   "metadata": {},
   "source": [
    "### Stratification"
   ]
  },
  {
   "cell_type": "code",
   "execution_count": null,
   "metadata": {},
   "outputs": [],
   "source": [
    "strata_dict = cat_stratification.create_strata_single(counters) \n",
    "print(\"STRATA DICT:\")\n",
    "for key, values in strata_dict.items():\n",
    "    print(f\"Length of '{key}': {len(values)}\")"
   ]
  },
  {
   "cell_type": "markdown",
   "metadata": {},
   "source": [
    "### Sampling"
   ]
  },
  {
   "cell_type": "code",
   "execution_count": null,
   "metadata": {},
   "outputs": [],
   "source": [
    "N, _ = cat_sampling.extract_population_size_and_means(statistics)\n",
    "print(f\"Population Size: {N}\")\n",
    "nis, phi = cat_sampling.nis_phi(strata_dict, N)\n",
    "print(f\"Number of observations in each stratum (nis): {nis}\")\n",
    "print(f\"Proportion of each stratum (phi): {phi}\")\n",
    "\n",
    "epsilon = 0.05\n",
    "confidence = 0.95\n",
    "n = cat_sampling.sample_size(epsilon, confidence)\n",
    "print(\"Required sample size:\", n)\n",
    "\n",
    "ni_size = cat_sampling.determine_ni_size_single(phi, all_keys, n)\n",
    "print(\"Sample size of each strata:\")\n",
    "for stratum_key, size in ni_size.items():\n",
    "    print(f\"Stratum {stratum_key}: {size} observations\")"
   ]
  },
  {
   "cell_type": "code",
   "execution_count": null,
   "metadata": {},
   "outputs": [],
   "source": [
    "sample = cat_sampling.create_sample(ni_size, strata_dict)"
   ]
  },
  {
   "cell_type": "code",
   "execution_count": null,
   "metadata": {},
   "outputs": [],
   "source": [
    "print(f\"Total stratified sample size: {len(sample)}\")"
   ]
  },
  {
   "cell_type": "code",
   "execution_count": null,
   "metadata": {},
   "outputs": [],
   "source": [
    "final_combination_counts = cat_sampling.count_combinations_final(sample)\n",
    "\n",
    "print(\"Counts of each combination:\")\n",
    "for combination, count in final_combination_counts.items():\n",
    "    print(f\"Combination: {combination}, Count: {count}\")"
   ]
  }
 ],
 "metadata": {
  "kernelspec": {
   "display_name": "Python 3",
   "language": "python",
   "name": "python3"
  },
  "language_info": {
   "codemirror_mode": {
    "name": "ipython",
    "version": 3
   },
   "file_extension": ".py",
   "mimetype": "text/x-python",
   "name": "python",
   "nbconvert_exporter": "python",
   "pygments_lexer": "ipython3",
   "version": "3.9.19"
  }
 },
 "nbformat": 4,
 "nbformat_minor": 2
}
